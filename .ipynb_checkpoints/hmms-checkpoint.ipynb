{
 "cells": [
  {
   "cell_type": "code",
   "execution_count": 27,
   "metadata": {},
   "outputs": [],
   "source": [
    "import librosa\n",
    "import numpy as np\n",
    "import os\n",
    "import math\n",
    "from sklearn.cluster import KMeans\n",
    "import hmmlearn.hmm"
   ]
  },
  {
   "cell_type": "markdown",
   "metadata": {},
   "source": [
    "## lấy mfcc của file wav"
   ]
  },
  {
   "cell_type": "code",
   "execution_count": 28,
   "metadata": {},
   "outputs": [],
   "source": [
    "# read file\n",
    "def get_mfcc(file_path):\n",
    "    y, sr = librosa.load(file_path) # read .wav file\n",
    "    hop_length = math.floor(sr*0.010) # 10ms hop\n",
    "    win_length = math.floor(sr*0.025) # 25ms frame\n",
    "    # mfcc is 12 x T matrix\n",
    "    mfcc = librosa.feature.mfcc(\n",
    "        y, sr, n_mfcc=12, n_fft=1024,\n",
    "        hop_length=hop_length, win_length=win_length)\n",
    "    # substract mean from mfcc --> normalize mfcc\n",
    "    mfcc = mfcc - np.mean(mfcc, axis=1).reshape((-1,1)) \n",
    "    # delta feature 1st order and 2nd order\n",
    "    delta1 = librosa.feature.delta(mfcc, order=1)\n",
    "    delta2 = librosa.feature.delta(mfcc, order=2)\n",
    "    # X is 36 x T\n",
    "    X = np.concatenate([mfcc, delta1, delta2], axis=0) # O^r\n",
    "    # return T x 36 (transpose of X)\n",
    "    return X.T # hmmlearn use T x N matrix"
   ]
  },
  {
   "cell_type": "markdown",
   "metadata": {},
   "source": [
    "## lấy mfcc của tất cả các file trong dir"
   ]
  },
  {
   "cell_type": "code",
   "execution_count": 29,
   "metadata": {},
   "outputs": [],
   "source": [
    "# lấy mfcc của tất cả các file wav trong wav\n",
    "def get_class_data(data_dir):\n",
    "    files = os.listdir(data_dir)\n",
    "    mfcc = [get_mfcc(os.path.join(data_dir,f)) for f in files if f.endswith(\".wav\")]\n",
    "    return mfcc"
   ]
  },
  {
   "cell_type": "markdown",
   "metadata": {},
   "source": [
    "## Hàm Clustering"
   ]
  },
  {
   "cell_type": "code",
   "execution_count": 30,
   "metadata": {},
   "outputs": [],
   "source": [
    "def clustering(X, n_clusters=14):\n",
    "    kmeans = KMeans(n_clusters=n_clusters, n_init=50, random_state=0, verbose=0)\n",
    "    kmeans.fit(X)\n",
    "    print(\"centers\", kmeans.cluster_centers_.shape)\n",
    "    return kmeans"
   ]
  },
  {
   "cell_type": "code",
   "execution_count": null,
   "metadata": {},
   "outputs": [],
   "source": []
  },
  {
   "cell_type": "markdown",
   "metadata": {},
   "source": [
    "## Data"
   ]
  },
  {
   "cell_type": "code",
   "execution_count": 31,
   "metadata": {},
   "outputs": [
    {
     "name": "stdout",
     "output_type": "stream",
     "text": [
      "Load khong dataset\n",
      "Load tôi dataset\n",
      "Load cachly dataset\n",
      "Load cothe dataset\n",
      "Load nguoi dataset\n"
     ]
    }
   ],
   "source": [
    "class_names = [\"khong\",\"tôi\",\"cachly\", \"cothe\" , 'nguoi'  ]\n",
    "dataset = {}\n",
    "for cname in class_names:\n",
    "    print(f\"Load {cname} dataset\")\n",
    "    dataset[cname] = get_class_data(os.path.join(\"data\", cname))\n"
   ]
  },
  {
   "cell_type": "code",
   "execution_count": 32,
   "metadata": {},
   "outputs": [
    {
     "name": "stdout",
     "output_type": "stream",
     "text": [
      "68\n"
     ]
    }
   ],
   "source": [
    "print(len(dataset['khong']))"
   ]
  },
  {
   "cell_type": "code",
   "execution_count": 33,
   "metadata": {},
   "outputs": [
    {
     "name": "stdout",
     "output_type": "stream",
     "text": [
      "68\n"
     ]
    }
   ],
   "source": [
    "trainset = {}\n",
    "testset = {}\n",
    "n_test = {'khong': 0, 'tôi': 0, 'cachly': 0, 'cothe': 0,'nguoi': 0}\n",
    "for cname in class_names:\n",
    "    n = len(dataset[cname])\n",
    "    n_train = math.floor(n*1)\n",
    "    trainset[cname] = dataset[cname][:n_train]\n",
    "    testset[cname] = dataset[cname][n_train:]\n",
    "    n_test[cname] += len(testset[cname])\n",
    "    \n",
    "print(len(trainset['khong']))"
   ]
  },
  {
   "cell_type": "markdown",
   "metadata": {},
   "source": [
    "## Fit kmeans trên tập train"
   ]
  },
  {
   "cell_type": "code",
   "execution_count": null,
   "metadata": {},
   "outputs": [
    {
     "name": "stdout",
     "output_type": "stream",
     "text": [
      "vectors (15599, 36)\n"
     ]
    }
   ],
   "source": [
    "# Get all vectors in the datasets\n",
    "all_vectors = np.concatenate([np.concatenate(v, axis=0) for k, v in trainset.items()], axis=0)\n",
    "print(\"vectors\", all_vectors.shape)\n",
    "# Run K-Means algorithm to get clusters\n",
    "kmeans = clustering(all_vectors)\n",
    "print(\"centers\", kmeans.cluster_centers_.shape)\n",
    "print(kmeans)"
   ]
  },
  {
   "cell_type": "code",
   "execution_count": 9,
   "metadata": {},
   "outputs": [],
   "source": [
    "for cname in class_names:\n",
    "    trainset[cname] = list([kmeans.predict(v).reshape(-1, 1) for v in trainset[cname]])\n",
    "    testset[cname] = list([kmeans.predict(v).reshape(-1, 1) for v in testset[cname]])\n",
    "\n",
    "    "
   ]
  },
  {
   "cell_type": "markdown",
   "metadata": {},
   "source": [
    "# Train"
   ]
  },
  {
   "cell_type": "code",
   "execution_count": 10,
   "metadata": {},
   "outputs": [],
   "source": [
    "models = {}"
   ]
  },
  {
   "cell_type": "markdown",
   "metadata": {},
   "source": [
    "## Model cho 'tôi' 3x3\n"
   ]
  },
  {
   "cell_type": "code",
   "execution_count": 11,
   "metadata": {
    "scrolled": true
   },
   "outputs": [
    {
     "name": "stdout",
     "output_type": "stream",
     "text": [
      "training class tôi\n",
      "(925, 1) [15, 17, 11, 13, 17, 21, 21, 14, 15, 12, 11, 18, 15, 16, 10, 27, 42, 17, 17, 30, 30, 12, 14, 14, 14, 18, 25, 17, 15, 9, 17, 22, 12, 12, 30, 36, 17, 15, 13, 15, 16, 20, 14, 28, 27, 19, 18, 12, 17, 14, 24] 51\n"
     ]
    },
    {
     "name": "stderr",
     "output_type": "stream",
     "text": [
      "         1       -2483.4214             +nan\n",
      "         2       -1721.4243        +761.9972\n",
      "         3       -1514.8353        +206.5889\n",
      "         4       -1397.2514        +117.5839\n",
      "         5       -1336.4738         +60.7777\n",
      "         6       -1299.1258         +37.3479\n",
      "         7       -1271.1331         +27.9928\n",
      "         8       -1219.2610         +51.8720\n",
      "         9       -1183.8324         +35.4286\n",
      "        10       -1168.5603         +15.2721\n",
      "        11       -1160.7677          +7.7926\n",
      "        12       -1157.5004          +3.2674\n",
      "        13       -1155.5233          +1.9770\n",
      "        14       -1153.8307          +1.6926\n",
      "        15       -1152.2569          +1.5739\n",
      "        16       -1150.7734          +1.4835\n",
      "        17       -1149.3144          +1.4590\n",
      "        18       -1147.7320          +1.5824\n",
      "        19       -1145.5155          +2.2165\n",
      "        20       -1141.8871          +3.6284\n",
      "        21       -1138.7636          +3.1235\n",
      "        22       -1137.3812          +1.3825\n",
      "        23       -1135.6334          +1.7478\n",
      "        24       -1133.3270          +2.3064\n",
      "        25       -1130.9708          +2.3562\n",
      "        26       -1127.5651          +3.4057\n",
      "        27       -1122.6391          +4.9260\n",
      "        28       -1119.9266          +2.7125\n",
      "        29       -1119.0361          +0.8905\n",
      "        30       -1118.2534          +0.7827\n",
      "        31       -1117.4568          +0.7966\n",
      "        32       -1116.8732          +0.5836\n",
      "        33       -1116.4483          +0.4248\n",
      "        34       -1116.1206          +0.3277\n",
      "        35       -1115.8573          +0.2634\n",
      "        36       -1115.6389          +0.2184\n",
      "        37       -1115.4617          +0.1772\n",
      "        38       -1115.3261          +0.1356\n",
      "        39       -1115.2289          +0.0971\n",
      "        40       -1115.1630          +0.0659\n",
      "        41       -1115.1196          +0.0434\n",
      "        42       -1115.0910          +0.0286\n",
      "        43       -1115.0713          +0.0197\n",
      "        44       -1115.0566          +0.0147\n",
      "        45       -1115.0444          +0.0122\n",
      "        46       -1115.0331          +0.0113\n",
      "        47       -1115.0218          +0.0113\n"
     ]
    },
    {
     "name": "stdout",
     "output_type": "stream",
     "text": [
      "Training done\n"
     ]
    },
    {
     "name": "stderr",
     "output_type": "stream",
     "text": [
      "        48       -1115.0102          +0.0116\n",
      "        49       -1114.9982          +0.0120\n",
      "        50       -1114.9861          +0.0121\n",
      "        51       -1114.9743          +0.0118\n",
      "        52       -1114.9634          +0.0109\n",
      "        53       -1114.9538          +0.0096\n"
     ]
    }
   ],
   "source": [
    "hmm = hmmlearn.hmm.MultinomialHMM(n_components=3*3, random_state=0, n_iter=1000, verbose=True, init_params='e', params='ste')\n",
    "hmm.startprob_ = np.array([0.6,0.3,0.1,0.0,0.0,0.0,0.0,0.0,0.0])\n",
    "hmm.transmat_ = np.array([\n",
    "        [0.5,0.3,0.2,0.0,0.0,0.0,0.0,0.0,0.0],\n",
    "        [0.0,0.5,0.3,0.2,0.0,0.0,0.0,0.0,0.0],\n",
    "        [0.0,0.0,0.5,0.3,0.2,0.0,0.0,0.0,0.0],\n",
    "        [0.0,0.0,0.0,0.5,0.3,0.2,0.0,0.0,0.0],\n",
    "        [0.0,0.0,0.0,0.0,0.5,0.3,0.2,0.0,0.0],\n",
    "        [0.0,0.0,0.0,0.0,0.0,0.5,0.3,0.2,0.0],\n",
    "        [0.0,0.0,0.0,0.0,0.0,0.0,0.5,0.3,0.2],\n",
    "        [0.0,0.0,0.0,0.0,0.0,0.0,0.0,0.6,0.4],\n",
    "        [0.0,0.0,0.0,0.0,0.0,0.0,0.0,0.0,1.0],\n",
    "    ])\n",
    "Xbn = np.concatenate(trainset['tôi'])\n",
    "lengths = list([len(x) for x in trainset['tôi']])\n",
    "print(\"training class\", 'tôi')\n",
    "print(Xbn.shape, lengths, len(lengths))\n",
    "hmm.fit(Xbn, lengths=lengths)\n",
    "models['tôi'] = hmm\n",
    "print(\"Training done\")"
   ]
  },
  {
   "cell_type": "markdown",
   "metadata": {},
   "source": [
    "## Model cho 'không' 3x3"
   ]
  },
  {
   "cell_type": "code",
   "execution_count": 12,
   "metadata": {},
   "outputs": [
    {
     "name": "stdout",
     "output_type": "stream",
     "text": [
      "training class khong\n",
      "(3991, 1) [26, 101, 29, 31, 34, 25, 15, 22, 46, 30, 33, 101, 25, 101, 101, 101, 101, 101, 101, 101, 101, 101, 101, 101, 38, 19, 27, 22, 31, 25, 31, 26, 27, 101, 101, 101, 101, 101, 101, 101, 101, 101, 101, 101, 101, 23, 25, 23, 45, 26, 19, 23, 30, 24, 101, 28, 28, 27, 25, 31, 32, 23, 22, 18, 28, 101, 101, 101] 68\n"
     ]
    },
    {
     "name": "stderr",
     "output_type": "stream",
     "text": [
      "         1       -9556.1065             +nan\n",
      "         2       -4158.3648       +5397.7417\n",
      "         3       -2864.7324       +1293.6324\n",
      "         4       -2659.5757        +205.1567\n",
      "         5       -2608.3876         +51.1881\n",
      "         6       -2588.4308         +19.9568\n",
      "         7       -2575.7705         +12.6603\n",
      "         8       -2563.5128         +12.2577\n",
      "         9       -2515.3095         +48.2034\n",
      "        10       -2504.7654         +10.5440\n",
      "        11       -2501.9131          +2.8523\n",
      "        12       -2499.9294          +1.9837\n",
      "        13       -2497.9153          +2.0141\n",
      "        14       -2496.9987          +0.9166\n",
      "        15       -2496.7474          +0.2513\n",
      "        16       -2496.6472          +0.1002\n",
      "        17       -2496.5906          +0.0566\n",
      "        18       -2496.5476          +0.0429\n",
      "        19       -2496.5081          +0.0396\n",
      "        20       -2496.4672          +0.0408\n",
      "        21       -2496.4229          +0.0443\n",
      "        22       -2496.3745          +0.0484\n",
      "        23       -2496.3236          +0.0510\n",
      "        24       -2496.2727          +0.0508\n",
      "        25       -2496.2250          +0.0477\n",
      "        26       -2496.1825          +0.0426\n",
      "        27       -2496.1457          +0.0368\n",
      "        28       -2496.1145          +0.0312\n",
      "        29       -2496.0882          +0.0263\n",
      "        30       -2496.0662          +0.0220\n"
     ]
    },
    {
     "name": "stdout",
     "output_type": "stream",
     "text": [
      "Training done\n"
     ]
    },
    {
     "name": "stderr",
     "output_type": "stream",
     "text": [
      "        31       -2496.0480          +0.0182\n",
      "        32       -2496.0330          +0.0150\n",
      "        33       -2496.0209          +0.0122\n",
      "        34       -2496.0111          +0.0098\n"
     ]
    }
   ],
   "source": [
    "hmm = hmmlearn.hmm.MultinomialHMM(n_components=3*3, random_state=0, n_iter=1000, verbose=True, init_params='e', params='ste')\n",
    "hmm.startprob_ = np.array([0.7, 0.2, 0.1, 0.0, 0.0, 0.0, 0.0, 0.0, 0.0, ])\n",
    "hmm.transmat_ =np.array([\n",
    "    [0.7, 0.2, 0.1, 0.0, 0.0, 0.0, 0.0, 0.0, 0.0, ],\n",
    "    [0.0, 0.7, 0.2, 0.1, 0.0, 0.0, 0.0, 0.0, 0.0, ],\n",
    "    [0.0, 0.0, 0.7, 0.2, 0.1, 0.0, 0.0, 0.0, 0.0, ],\n",
    "    [0.0, 0.0, 0.0, 0.7, 0.2, 0.1, 0.0, 0.0, 0.0, ],\n",
    "    [0.0, 0.0, 0.0, 0.0, 0.7, 0.2, 0.1, 0.0, 0.0, ],\n",
    "    [0.0, 0.0, 0.0, 0.0, 0.0, 0.7, 0.2, 0.1, 0.0, ],\n",
    "    [0.0, 0.0, 0.0, 0.0, 0.0, 0.0, 0.7, 0.2, 0.1, ],\n",
    "    [0.0, 0.0, 0.0, 0.0, 0.0, 0.0, 0.0, 0.7, 0.3, ],\n",
    "    [0.0, 0.0, 0.0, 0.0, 0.0, 0.0, 0.0, 0.0, 1.0, ],])\n",
    "\n",
    "Xct = np.concatenate(trainset['khong'])\n",
    "lengths = list([len(x) for x in trainset['khong']])\n",
    "print(\"training class\", 'khong')\n",
    "print(Xct.shape, lengths, len(lengths))\n",
    "hmm.fit(Xct, lengths=lengths)\n",
    "models['khong'] = hmm\n",
    "print(\"Training done\")"
   ]
  },
  {
   "cell_type": "markdown",
   "metadata": {},
   "source": [
    "## Model cho 'có thể' 4x3"
   ]
  },
  {
   "cell_type": "code",
   "execution_count": 13,
   "metadata": {},
   "outputs": [
    {
     "name": "stdout",
     "output_type": "stream",
     "text": [
      "training class có thể\n",
      "(2235, 1) [34, 56, 39, 40, 46, 35, 45, 47, 37, 56, 36, 35, 30, 36, 39, 26, 34, 36, 30, 25, 27, 16, 25, 27, 20, 22, 44, 57, 53, 36, 37, 30, 34, 43, 38, 44, 52, 35, 39, 41, 52, 43, 33, 49, 59, 35, 42, 40, 37, 40, 35, 28, 44, 23, 30, 35, 32, 35, 35, 26] 60\n"
     ]
    },
    {
     "name": "stderr",
     "output_type": "stream",
     "text": [
      "         1       -5675.9557             +nan\n",
      "         2       -4345.6336       +1330.3221\n",
      "         3       -3734.8658        +610.7678\n",
      "         4       -3317.9259        +416.9400\n",
      "         5       -3201.1353        +116.7906\n",
      "         6       -3155.3298         +45.8055\n",
      "         7       -3127.8974         +27.4324\n",
      "         8       -3111.8514         +16.0459\n",
      "         9       -3105.2158          +6.6357\n",
      "        10       -3100.8486          +4.3672\n",
      "        11       -3096.5091          +4.3395\n",
      "        12       -3095.1138          +1.3953\n",
      "        13       -3094.4976          +0.6162\n",
      "        14       -3089.5504          +4.9472\n",
      "        15       -3085.6398          +3.9106\n",
      "        16       -3085.0190          +0.6208\n",
      "        17       -3084.6416          +0.3774\n",
      "        18       -3084.3780          +0.2636\n",
      "        19       -3084.1682          +0.2098\n",
      "        20       -3083.9864          +0.1818\n",
      "        21       -3083.8210          +0.1655\n",
      "        22       -3083.6661          +0.1548\n",
      "        23       -3083.5196          +0.1466\n",
      "        24       -3083.3808          +0.1387\n",
      "        25       -3083.2504          +0.1304\n",
      "        26       -3083.1289          +0.1215\n",
      "        27       -3083.0165          +0.1124\n",
      "        28       -3082.9124          +0.1041\n",
      "        29       -3082.8152          +0.0972\n",
      "        30       -3082.7226          +0.0927\n",
      "        31       -3082.6309          +0.0916\n",
      "        32       -3082.5353          +0.0956\n",
      "        33       -3082.4278          +0.1075\n",
      "        34       -3082.2965          +0.1313\n",
      "        35       -3082.1249          +0.1716\n",
      "        36       -3081.8987          +0.2262\n",
      "        37       -3081.6234          +0.2753\n",
      "        38       -3081.3334          +0.2901\n",
      "        39       -3081.0656          +0.2678\n",
      "        40       -3080.8325          +0.2332\n",
      "        41       -3080.6274          +0.2050\n",
      "        42       -3080.4411          +0.1863\n",
      "        43       -3080.2676          +0.1735\n",
      "        44       -3080.1044          +0.1632\n",
      "        45       -3079.9505          +0.1539\n",
      "        46       -3079.8058          +0.1446\n",
      "        47       -3079.6711          +0.1348\n",
      "        48       -3079.5471          +0.1239\n",
      "        49       -3079.4351          +0.1121\n",
      "        50       -3079.3357          +0.0994\n",
      "        51       -3079.2494          +0.0863\n",
      "        52       -3079.1760          +0.0734\n",
      "        53       -3079.1148          +0.0612\n",
      "        54       -3079.0646          +0.0502\n",
      "        55       -3079.0241          +0.0405\n",
      "        56       -3078.9918          +0.0323\n",
      "        57       -3078.9664          +0.0254\n",
      "        58       -3078.9466          +0.0198\n"
     ]
    },
    {
     "name": "stdout",
     "output_type": "stream",
     "text": [
      "Training done\n"
     ]
    },
    {
     "name": "stderr",
     "output_type": "stream",
     "text": [
      "        59       -3078.9313          +0.0153\n",
      "        60       -3078.9195          +0.0118\n",
      "        61       -3078.9104          +0.0090\n"
     ]
    }
   ],
   "source": [
    "hmm = hmmlearn.hmm.MultinomialHMM(n_components=4*3, random_state=0, n_iter=1000, verbose=True, init_params='e', params='ste')\n",
    "hmm.startprob_ = np.array([0.7, 0.2, 0.1, 0.0, 0.0, 0.0, 0.0, 0.0, 0.0, 0.0, 0.0, 0.0, ])\n",
    "hmm.transmat_ =np.array([\n",
    "    [0.7, 0.2, 0.1, 0.0, 0.0, 0.0, 0.0, 0.0, 0.0, 0.0, 0.0, 0.0, ],\n",
    "    [0.0, 0.7, 0.2, 0.1, 0.0, 0.0, 0.0, 0.0, 0.0, 0.0, 0.0, 0.0, ],\n",
    "    [0.0, 0.0, 0.7, 0.2, 0.1, 0.0, 0.0, 0.0, 0.0, 0.0, 0.0, 0.0, ],\n",
    "    [0.0, 0.0, 0.0, 0.7, 0.2, 0.1, 0.0, 0.0, 0.0, 0.0, 0.0, 0.0, ],\n",
    "    [0.0, 0.0, 0.0, 0.0, 0.7, 0.2, 0.1, 0.0, 0.0, 0.0, 0.0, 0.0, ],\n",
    "    [0.0, 0.0, 0.0, 0.0, 0.0, 0.7, 0.2, 0.1, 0.0, 0.0, 0.0, 0.0, ],\n",
    "    [0.0, 0.0, 0.0, 0.0, 0.0, 0.0, 0.7, 0.2, 0.1, 0.0, 0.0, 0.0, ],\n",
    "    [0.0, 0.0, 0.0, 0.0, 0.0, 0.0, 0.0, 0.7, 0.2, 0.1, 0.0, 0.0, ],\n",
    "    [0.0, 0.0, 0.0, 0.0, 0.0, 0.0, 0.0, 0.0, 0.7, 0.2, 0.1, 0.0, ],\n",
    "    [0.0, 0.0, 0.0, 0.0, 0.0, 0.0, 0.0, 0.0, 0.0, 0.7, 0.2, 0.1, ],\n",
    "    [0.0, 0.0, 0.0, 0.0, 0.0, 0.0, 0.0, 0.0, 0.0, 0.0, 0.7, 0.3, ],\n",
    "    [0.0, 0.0, 0.0, 0.0, 0.0, 0.0, 0.0, 0.0, 0.0, 0.0, 0.0, 1.0, ],])\n",
    "\n",
    "Xcth = np.concatenate(trainset['cothe'])\n",
    "lengths = list([len(x) for x in trainset['cothe']])\n",
    "print(\"training class\", 'có thể')\n",
    "print(Xcth.shape, lengths, len(lengths))\n",
    "hmm.fit(Xcth, lengths=lengths)\n",
    "models['có thể'] = hmm\n",
    "print(\"Training done\")"
   ]
  },
  {
   "cell_type": "markdown",
   "metadata": {},
   "source": [
    "## Model cho 'người' 3x3"
   ]
  },
  {
   "cell_type": "code",
   "execution_count": 14,
   "metadata": {},
   "outputs": [
    {
     "name": "stdout",
     "output_type": "stream",
     "text": [
      "training class nguoi\n",
      "(1887, 1) [53, 36, 38, 47, 20, 44, 22, 48, 27, 37, 34, 33, 36, 25, 33, 18, 18, 32, 24, 25, 22, 31, 55, 26, 39, 18, 25, 22, 22, 15, 16, 24, 24, 51, 35, 24, 22, 29, 15, 14, 21, 35, 18, 20, 30, 16, 21, 34, 14, 32, 22, 21, 23, 26, 17, 22, 27, 17, 23, 24, 18, 10, 13, 27, 15, 19, 44, 29, 35, 35] 70\n"
     ]
    },
    {
     "name": "stderr",
     "output_type": "stream",
     "text": [
      "         1       -4862.7234             +nan\n",
      "         2       -2902.0811       +1960.6423\n",
      "         3       -2621.6172        +280.4640\n",
      "         4       -2482.8007        +138.8165\n",
      "         5       -2426.2527         +56.5480\n",
      "         6       -2402.2125         +24.0402\n",
      "         7       -2390.3282         +11.8843\n",
      "         8       -2381.6740          +8.6542\n",
      "         9       -2375.6052          +6.0689\n",
      "        10       -2372.1835          +3.4217\n",
      "        11       -2370.3742          +1.8093\n",
      "        12       -2369.2907          +1.0834\n",
      "        13       -2368.4856          +0.8051\n",
      "        14       -2367.6852          +0.8004\n",
      "        15       -2366.5031          +1.1821\n",
      "        16       -2364.3778          +2.1253\n",
      "        17       -2362.3803          +1.9975\n",
      "        18       -2361.6657          +0.7146\n",
      "        19       -2361.3853          +0.2803\n",
      "        20       -2361.2414          +0.1440\n"
     ]
    },
    {
     "name": "stdout",
     "output_type": "stream",
     "text": [
      "Training done\n"
     ]
    },
    {
     "name": "stderr",
     "output_type": "stream",
     "text": [
      "        21       -2361.1619          +0.0795\n",
      "        22       -2361.1168          +0.0451\n",
      "        23       -2361.0906          +0.0262\n",
      "        24       -2361.0750          +0.0157\n",
      "        25       -2361.0652          +0.0097\n"
     ]
    }
   ],
   "source": [
    "hmm = hmmlearn.hmm.MultinomialHMM(n_components=3*3, random_state=0, n_iter=1000, verbose=True, init_params='e', params='ste')\n",
    "hmm.startprob_ = np.array([0.7, 0.2, 0.1, 0.0, 0.0, 0.0, 0.0, 0.0, 0.0, ])\n",
    "hmm.transmat_ =np.array([\n",
    "    [0.7, 0.2, 0.1, 0.0, 0.0, 0.0, 0.0, 0.0, 0.0, ],\n",
    "    [0.0, 0.7, 0.2, 0.1, 0.0, 0.0, 0.0, 0.0, 0.0, ],\n",
    "    [0.0, 0.0, 0.7, 0.2, 0.1, 0.0, 0.0, 0.0, 0.0, ],\n",
    "    [0.0, 0.0, 0.0, 0.7, 0.2, 0.1, 0.0, 0.0, 0.0, ],\n",
    "    [0.0, 0.0, 0.0, 0.0, 0.7, 0.2, 0.1, 0.0, 0.0, ],\n",
    "    [0.0, 0.0, 0.0, 0.0, 0.0, 0.7, 0.2, 0.1, 0.0, ],\n",
    "    [0.0, 0.0, 0.0, 0.0, 0.0, 0.0, 0.7, 0.2, 0.1, ],\n",
    "    [0.0, 0.0, 0.0, 0.0, 0.0, 0.0, 0.0, 0.7, 0.3, ],\n",
    "    [0.0, 0.0, 0.0, 0.0, 0.0, 0.0, 0.0, 0.0, 1.0, ],])\n",
    "\n",
    "Xcth = np.concatenate(trainset['nguoi'])\n",
    "lengths = list([len(x) for x in trainset['nguoi']])\n",
    "print(\"training class\", 'nguoi')\n",
    "print(Xcth.shape, lengths, len(lengths))\n",
    "hmm.fit(Xcth, lengths=lengths)\n",
    "models['nguoi'] = hmm\n",
    "print(\"Training done\")"
   ]
  },
  {
   "cell_type": "markdown",
   "metadata": {},
   "source": [
    "## Model cho 'Cách Ly' 5x3"
   ]
  },
  {
   "cell_type": "code",
   "execution_count": 18,
   "metadata": {},
   "outputs": [
    {
     "name": "stdout",
     "output_type": "stream",
     "text": [
      "training class cachly\n",
      "(6561, 1) [50, 37, 55, 51, 28, 49, 49, 49, 49, 61, 61, 65, 71, 37, 34, 89, 54, 54, 54, 49, 56, 39, 31, 51, 50, 63, 32, 82, 29, 36, 54, 51, 57, 62, 56, 38, 60, 60, 60, 60, 2957, 51, 59, 61, 89, 64, 64, 64, 64, 39, 58, 58, 58, 57, 65, 45, 49, 56, 56, 56, 89, 89, 89, 29, 33, 89] 66\n"
     ]
    },
    {
     "name": "stderr",
     "output_type": "stream",
     "text": [
      "         1      -18530.3515             +nan\n",
      "         2      -12142.7292       +6387.6223\n",
      "         3      -11166.2660        +976.4632\n",
      "         4      -10892.9698        +273.2961\n",
      "         5      -10767.3400        +125.6298\n",
      "         6      -10690.2800         +77.0599\n",
      "         7      -10655.5058         +34.7742\n",
      "         8      -10633.3188         +22.1870\n",
      "         9      -10620.2342         +13.0846\n",
      "        10      -10604.8172         +15.4170\n",
      "        11      -10578.5416         +26.2757\n",
      "        12      -10546.9854         +31.5561\n",
      "        13      -10533.4134         +13.5721\n",
      "        14      -10527.8333          +5.5801\n",
      "        15      -10523.0521          +4.7812\n",
      "        16      -10517.6740          +5.3781\n",
      "        17      -10513.6992          +3.9748\n",
      "        18      -10511.7468          +1.9524\n",
      "        19      -10510.5405          +1.2062\n",
      "        20      -10509.1743          +1.3662\n",
      "        21      -10507.1823          +1.9920\n",
      "        22      -10505.5988          +1.5835\n",
      "        23      -10505.1247          +0.4741\n",
      "        24      -10504.8705          +0.2543\n",
      "        25      -10504.6817          +0.1888\n",
      "        26      -10504.5258          +0.1559\n",
      "        27      -10504.3824          +0.1434\n",
      "        28      -10504.2331          +0.1493\n",
      "        29      -10504.0610          +0.1721\n",
      "        30      -10503.8480          +0.2130\n",
      "        31      -10503.5705          +0.2774\n",
      "        32      -10503.1930          +0.3776\n",
      "        33      -10502.6563          +0.5367\n",
      "        34      -10501.8606          +0.7956\n",
      "        35      -10500.6487          +1.2119\n",
      "        36      -10498.8223          +1.8264\n",
      "        37      -10496.2515          +2.5708\n",
      "        38      -10493.0549          +3.1966\n",
      "        39      -10489.6097          +3.4452\n",
      "        40      -10486.3537          +3.2561\n",
      "        41      -10483.7637          +2.5900\n",
      "        42      -10482.0977          +1.6660\n",
      "        43      -10481.1275          +0.9702\n",
      "        44      -10480.5222          +0.6053\n",
      "        45      -10480.0924          +0.4298\n",
      "        46      -10479.7578          +0.3346\n",
      "        47      -10479.4881          +0.2697\n",
      "        48      -10479.2741          +0.2140\n",
      "        49      -10479.1126          +0.1615\n",
      "        50      -10478.9975          +0.1151\n",
      "        51      -10478.9187          +0.0788\n",
      "        52      -10478.8651          +0.0536\n",
      "        53      -10478.8278          +0.0373\n",
      "        54      -10478.8007          +0.0271\n",
      "        55      -10478.7796          +0.0211\n",
      "        56      -10478.7620          +0.0177\n",
      "        57      -10478.7459          +0.0161\n",
      "        58      -10478.7298          +0.0160\n",
      "        59      -10478.7123          +0.0176\n",
      "        60      -10478.6912          +0.0211\n",
      "        61      -10478.6636          +0.0276\n",
      "        62      -10478.6243          +0.0392\n",
      "        63      -10478.5648          +0.0596\n",
      "        64      -10478.4707          +0.0940\n",
      "        65      -10478.3242          +0.1465\n",
      "        66      -10478.1187          +0.2055\n",
      "        67      -10477.8851          +0.2337\n",
      "        68      -10477.6790          +0.2060\n",
      "        69      -10477.5297          +0.1493\n",
      "        70      -10477.4319          +0.0978\n",
      "        71      -10477.3702          +0.0617\n",
      "        72      -10477.3315          +0.0386\n",
      "        73      -10477.3071          +0.0244\n"
     ]
    },
    {
     "name": "stdout",
     "output_type": "stream",
     "text": [
      "Training done\n"
     ]
    },
    {
     "name": "stderr",
     "output_type": "stream",
     "text": [
      "        74      -10477.2915          +0.0157\n",
      "        75      -10477.2812          +0.0103\n",
      "        76      -10477.2744          +0.0069\n"
     ]
    }
   ],
   "source": [
    "hmm = hmmlearn.hmm.MultinomialHMM(n_components=5*3, random_state=0, n_iter=1000, verbose=True, init_params='e', params='ste')\n",
    "hmm.startprob_ = np.array([0.7,0.2,0.1,0.0,0.0,0.0, 0.0,0.0,0.0,0.0,0.0,0.0,0.0, 0.0,0.0])\n",
    "hmm.transmat_ =np.array([\n",
    "    [0.5,0.3,0.2,0.0,0.0,0.0, 0.0, 0.0, 0.0,0.0, 0.0, 0.0,0.0, 0.0,0.0],\n",
    "        [0.0,0.5,0.3,0.2,0.0,0.0, 0.0, 0.0, 0.0,0.0, 0.0, 0.0,0.0, 0.0,0.0],\n",
    "        [0.0,0.0,0.5,0.3,0.2,0.0, 0.0, 0.0, 0.0,0.0, 0.0, 0.0,0.0, 0.0,0.0],\n",
    "        [0.0,0.0,0.0,0.5,0.3,0.2,0.0, 0.0, 0.0,0.0, 0.0, 0.0,0.0, 0.0,0.0],\n",
    "        [0.0,0.0,0.0,0.0,0.5,0.3,0.2,0.0,0.0,0.0, 0.0, 0.0,0.0, 0.0,0.0],\n",
    "        [0.0,0.0,0.0,0.0,0.0,0.5,0.3,0.2,0.0,0.0, 0.0, 0.0,0.0, 0.0,0.0],\n",
    "        [0.0,0.0,0.0,0.0,0.0,0.0,0.5,0.3,0.2,0.0,0.0, 0.0,0.0, 0.0,0.0],\n",
    "        [0.0,0.0,0.0,0.0,0.0,0.0,0.0,0.5,0.3,0.2,0.0,0.0,0.0, 0.0,0.0],\n",
    "        [0.0,0.0,0.0,0.0,0.0,0.0,0.0,0.0,0.5,0.3,0.2,0.0,0.0, 0.0,0.0],\n",
    "        [0.0,0.0,0.0,0.0,0.0,0.0,0.0,0.0,0.0,0.5,0.3,0.2,0.0, 0.0,0.0],\n",
    "        [0.0,0.0,0.0,0.0,0.0,0.0,0.0,0.0,0.0,0.0,0.5,0.3,0.2,0.0,0.0],\n",
    "        [0.0,0.0,0.0,0.0,0.0,0.0,0.0,0.0,0.0,0.0,0.0,0.5,0.3,0.2,0.0],\n",
    "        [0.0,0.0,0.0,0.0,0.0,0.0,0.0,0.0,0.0,0.0,0.0,0.0,0.5,0.3,0.2],\n",
    "        [0.0,0.0,0.0,0.0,0.0,0.0,0.0,0.0,0.0,0.0,0.0,0.0,0.0,0.5,0.5],\n",
    "        [0.0,0.0,0.0,0.0,0.0,0.0,0.0,0.0,0.0,0.0,0.0,0.0,0.0,0.0,1.0],])\n",
    "Xvn = np.concatenate(trainset['cachly'])\n",
    "lengths = list([len(x) for x in trainset['cachly']])\n",
    "print(\"training class\", 'cachly')\n",
    "print(Xvn.shape, lengths, len(lengths))\n",
    "hmm.fit(Xvn, lengths=lengths)\n",
    "models['cachly'] = hmm\n",
    "print(\"Training done\")"
   ]
  },
  {
   "cell_type": "markdown",
   "metadata": {},
   "source": [
    "# Test"
   ]
  },
  {
   "cell_type": "code",
   "execution_count": 26,
   "metadata": {},
   "outputs": [
    {
     "name": "stdout",
     "output_type": "stream",
     "text": [
      "Testing\n"
     ]
    }
   ],
   "source": [
    "print(\"Testing\")\n",
    "n_correct = {'khong': 0, 'tôi': 0, 'cothe': 0, 'nguoi': 0,'cachly': 0}\n",
    "for true_cname in class_names:\n",
    "    for O in testset[true_cname]:\n",
    "        score = {cname: model.score(O, [len(O)]) for cname, model in models.items()}\n",
    "        if (true_cname == max(score, key=score.get)): n_correct[true_cname] += 1\n",
    "        print(true_cname, score, 'predict:', max(score, key=score.get))"
   ]
  },
  {
   "cell_type": "code",
   "execution_count": 20,
   "metadata": {},
   "outputs": [
    {
     "ename": "ZeroDivisionError",
     "evalue": "division by zero",
     "output_type": "error",
     "traceback": [
      "\u001b[1;31m---------------------------------------------------------------------------\u001b[0m",
      "\u001b[1;31mZeroDivisionError\u001b[0m                         Traceback (most recent call last)",
      "\u001b[1;32m<ipython-input-20-c97ec5b6b35b>\u001b[0m in \u001b[0;36m<module>\u001b[1;34m\u001b[0m\n\u001b[0;32m      1\u001b[0m \u001b[1;32mfor\u001b[0m \u001b[0mcname\u001b[0m \u001b[1;32min\u001b[0m \u001b[0mclass_names\u001b[0m\u001b[1;33m:\u001b[0m\u001b[1;33m\u001b[0m\u001b[1;33m\u001b[0m\u001b[0m\n\u001b[1;32m----> 2\u001b[1;33m     \u001b[0mprint\u001b[0m\u001b[1;33m(\u001b[0m\u001b[1;34m'Accuracy:'\u001b[0m\u001b[1;33m,\u001b[0m \u001b[0mcname\u001b[0m\u001b[1;33m,\u001b[0m \u001b[0mn_correct\u001b[0m\u001b[1;33m[\u001b[0m\u001b[0mcname\u001b[0m\u001b[1;33m]\u001b[0m\u001b[1;33m/\u001b[0m\u001b[0mn_test\u001b[0m\u001b[1;33m[\u001b[0m\u001b[0mcname\u001b[0m\u001b[1;33m]\u001b[0m\u001b[1;33m)\u001b[0m\u001b[1;33m\u001b[0m\u001b[1;33m\u001b[0m\u001b[0m\n\u001b[0m",
      "\u001b[1;31mZeroDivisionError\u001b[0m: division by zero"
     ]
    }
   ],
   "source": [
    "for cname in class_names:\n",
    "    print('Accuracy:', cname, n_correct[cname]/n_test[cname])"
   ]
  },
  {
   "cell_type": "code",
   "execution_count": 22,
   "metadata": {},
   "outputs": [
    {
     "name": "stdout",
     "output_type": "stream",
     "text": [
      "All Accuracy: 0.9205298013245033\n"
     ]
    }
   ],
   "source": [
    "print('All Accuracy:', sum(n_correct.values())/sum(n_test.values()))"
   ]
  },
  {
   "cell_type": "code",
   "execution_count": 23,
   "metadata": {},
   "outputs": [
    {
     "name": "stdout",
     "output_type": "stream",
     "text": [
      "{'bệnh nhân': 30, 'chúng ta': 30, 'có thể': 29, 'người': 32, 'Việt Nam': 30}\n"
     ]
    }
   ],
   "source": [
    "print(n_test)"
   ]
  },
  {
   "cell_type": "code",
   "execution_count": 24,
   "metadata": {},
   "outputs": [
    {
     "data": {
      "text/plain": [
       "array([[0.83, 0.06, 0.11, 0.  , 0.  , 0.  , 0.  , 0.  , 0.  ],\n",
       "       [0.  , 0.82, 0.18, 0.  , 0.  , 0.  , 0.  , 0.  , 0.  ],\n",
       "       [0.  , 0.  , 0.81, 0.06, 0.12, 0.  , 0.  , 0.  , 0.  ],\n",
       "       [0.  , 0.  , 0.  , 0.86, 0.14, 0.  , 0.  , 0.  , 0.  ],\n",
       "       [0.  , 0.  , 0.  , 0.  , 0.91, 0.05, 0.04, 0.  , 0.  ],\n",
       "       [0.  , 0.  , 0.  , 0.  , 0.  , 0.98, 0.  , 0.02, 0.  ],\n",
       "       [0.  , 0.  , 0.  , 0.  , 0.  , 0.  , 0.96, 0.04, 0.  ],\n",
       "       [0.  , 0.  , 0.  , 0.  , 0.  , 0.  , 0.  , 0.83, 0.17],\n",
       "       [0.  , 0.  , 0.  , 0.  , 0.  , 0.  , 0.  , 0.  , 1.  ]])"
      ]
     },
     "execution_count": 24,
     "metadata": {},
     "output_type": "execute_result"
    }
   ],
   "source": [
    "np.around(models['nguoi'].transmat_, 2)"
   ]
  },
  {
   "cell_type": "code",
   "execution_count": 25,
   "metadata": {},
   "outputs": [
    {
     "data": {
      "text/plain": [
       "array([[0.79, 0.21, 0.  , 0.  , 0.  , 0.  , 0.  , 0.  , 0.  , 0.  , 0.  ,\n",
       "        0.  ],\n",
       "       [0.  , 0.87, 0.13, 0.  , 0.  , 0.  , 0.  , 0.  , 0.  , 0.  , 0.  ,\n",
       "        0.  ],\n",
       "       [0.  , 0.  , 0.43, 0.02, 0.55, 0.  , 0.  , 0.  , 0.  , 0.  , 0.  ,\n",
       "        0.  ],\n",
       "       [0.  , 0.  , 0.  , 0.91, 0.09, 0.  , 0.  , 0.  , 0.  , 0.  , 0.  ,\n",
       "        0.  ],\n",
       "       [0.  , 0.  , 0.  , 0.  , 0.67, 0.06, 0.27, 0.  , 0.  , 0.  , 0.  ,\n",
       "        0.  ],\n",
       "       [0.  , 0.  , 0.  , 0.  , 0.  , 0.44, 0.56, 0.  , 0.  , 0.  , 0.  ,\n",
       "        0.  ],\n",
       "       [0.  , 0.  , 0.  , 0.  , 0.  , 0.  , 0.63, 0.01, 0.36, 0.  , 0.  ,\n",
       "        0.  ],\n",
       "       [0.  , 0.  , 0.  , 0.  , 0.  , 0.  , 0.  , 0.8 , 0.11, 0.1 , 0.  ,\n",
       "        0.  ],\n",
       "       [0.  , 0.  , 0.  , 0.  , 0.  , 0.  , 0.  , 0.  , 0.51, 0.41, 0.09,\n",
       "        0.  ],\n",
       "       [0.  , 0.  , 0.  , 0.  , 0.  , 0.  , 0.  , 0.  , 0.  , 0.82, 0.18,\n",
       "        0.  ],\n",
       "       [0.  , 0.  , 0.  , 0.  , 0.  , 0.  , 0.  , 0.  , 0.  , 0.  , 0.73,\n",
       "        0.27],\n",
       "       [0.  , 0.  , 0.  , 0.  , 0.  , 0.  , 0.  , 0.  , 0.  , 0.  , 0.  ,\n",
       "        1.  ]])"
      ]
     },
     "execution_count": 25,
     "metadata": {},
     "output_type": "execute_result"
    }
   ],
   "source": [
    "np.around(models['cothe'].transmat_, 2)"
   ]
  },
  {
   "cell_type": "code",
   "execution_count": 26,
   "metadata": {},
   "outputs": [
    {
     "data": {
      "text/plain": [
       "array([[0.68, 0.11, 0.21, 0.  , 0.  , 0.  , 0.  , 0.  , 0.  , 0.  , 0.  ,\n",
       "        0.  , 0.  , 0.  , 0.  , 0.  , 0.  , 0.  ],\n",
       "       [0.  , 0.67, 0.33, 0.  , 0.  , 0.  , 0.  , 0.  , 0.  , 0.  , 0.  ,\n",
       "        0.  , 0.  , 0.  , 0.  , 0.  , 0.  , 0.  ],\n",
       "       [0.  , 0.  , 0.59, 0.28, 0.13, 0.  , 0.  , 0.  , 0.  , 0.  , 0.  ,\n",
       "        0.  , 0.  , 0.  , 0.  , 0.  , 0.  , 0.  ],\n",
       "       [0.  , 0.  , 0.  , 0.7 , 0.3 , 0.  , 0.  , 0.  , 0.  , 0.  , 0.  ,\n",
       "        0.  , 0.  , 0.  , 0.  , 0.  , 0.  , 0.  ],\n",
       "       [0.  , 0.  , 0.  , 0.  , 0.63, 0.12, 0.25, 0.  , 0.  , 0.  , 0.  ,\n",
       "        0.  , 0.  , 0.  , 0.  , 0.  , 0.  , 0.  ],\n",
       "       [0.  , 0.  , 0.  , 0.  , 0.  , 0.84, 0.08, 0.07, 0.  , 0.  , 0.  ,\n",
       "        0.  , 0.  , 0.  , 0.  , 0.  , 0.  , 0.  ],\n",
       "       [0.  , 0.  , 0.  , 0.  , 0.  , 0.  , 0.81, 0.13, 0.05, 0.  , 0.  ,\n",
       "        0.  , 0.  , 0.  , 0.  , 0.  , 0.  , 0.  ],\n",
       "       [0.  , 0.  , 0.  , 0.  , 0.  , 0.  , 0.  , 0.79, 0.18, 0.04, 0.  ,\n",
       "        0.  , 0.  , 0.  , 0.  , 0.  , 0.  , 0.  ],\n",
       "       [0.  , 0.  , 0.  , 0.  , 0.  , 0.  , 0.  , 0.  , 0.35, 0.61, 0.04,\n",
       "        0.  , 0.  , 0.  , 0.  , 0.  , 0.  , 0.  ],\n",
       "       [0.  , 0.  , 0.  , 0.  , 0.  , 0.  , 0.  , 0.  , 0.  , 0.52, 0.  ,\n",
       "        0.48, 0.  , 0.  , 0.  , 0.  , 0.  , 0.  ],\n",
       "       [0.  , 0.  , 0.  , 0.  , 0.  , 0.  , 0.  , 0.  , 0.  , 0.  , 0.  ,\n",
       "        1.  , 0.  , 0.  , 0.  , 0.  , 0.  , 0.  ],\n",
       "       [0.  , 0.  , 0.  , 0.  , 0.  , 0.  , 0.  , 0.  , 0.  , 0.  , 0.  ,\n",
       "        0.77, 0.23, 0.01, 0.  , 0.  , 0.  , 0.  ],\n",
       "       [0.  , 0.  , 0.  , 0.  , 0.  , 0.  , 0.  , 0.  , 0.  , 0.  , 0.  ,\n",
       "        0.  , 0.71, 0.28, 0.02, 0.  , 0.  , 0.  ],\n",
       "       [0.  , 0.  , 0.  , 0.  , 0.  , 0.  , 0.  , 0.  , 0.  , 0.  , 0.  ,\n",
       "        0.  , 0.  , 0.84, 0.11, 0.04, 0.  , 0.  ],\n",
       "       [0.  , 0.  , 0.  , 0.  , 0.  , 0.  , 0.  , 0.  , 0.  , 0.  , 0.  ,\n",
       "        0.  , 0.  , 0.  , 0.91, 0.09, 0.01, 0.  ],\n",
       "       [0.  , 0.  , 0.  , 0.  , 0.  , 0.  , 0.  , 0.  , 0.  , 0.  , 0.  ,\n",
       "        0.  , 0.  , 0.  , 0.  , 0.75, 0.  , 0.25],\n",
       "       [0.  , 0.  , 0.  , 0.  , 0.  , 0.  , 0.  , 0.  , 0.  , 0.  , 0.  ,\n",
       "        0.  , 0.  , 0.  , 0.  , 0.  , 1.  , 0.  ],\n",
       "       [0.  , 0.  , 0.  , 0.  , 0.  , 0.  , 0.  , 0.  , 0.  , 0.  , 0.  ,\n",
       "        0.  , 0.  , 0.  , 0.  , 0.  , 0.  , 1.  ]])"
      ]
     },
     "execution_count": 26,
     "metadata": {},
     "output_type": "execute_result"
    }
   ],
   "source": [
    "np.around(models['cachly'].transmat_, 2)"
   ]
  },
  {
   "cell_type": "code",
   "execution_count": 27,
   "metadata": {},
   "outputs": [
    {
     "data": {
      "text/plain": [
       "array([[0.74, 0.26, 0.  , 0.  , 0.  , 0.  , 0.  , 0.  , 0.  , 0.  , 0.  ,\n",
       "        0.  , 0.  , 0.  , 0.  , 0.  , 0.  , 0.  ],\n",
       "       [0.  , 0.85, 0.06, 0.08, 0.  , 0.  , 0.  , 0.  , 0.  , 0.  , 0.  ,\n",
       "        0.  , 0.  , 0.  , 0.  , 0.  , 0.  , 0.  ],\n",
       "       [0.  , 0.  , 0.8 , 0.15, 0.04, 0.  , 0.  , 0.  , 0.  , 0.  , 0.  ,\n",
       "        0.  , 0.  , 0.  , 0.  , 0.  , 0.  , 0.  ],\n",
       "       [0.  , 0.  , 0.  , 0.85, 0.15, 0.  , 0.  , 0.  , 0.  , 0.  , 0.  ,\n",
       "        0.  , 0.  , 0.  , 0.  , 0.  , 0.  , 0.  ],\n",
       "       [0.  , 0.  , 0.  , 0.  , 0.38, 0.1 , 0.52, 0.  , 0.  , 0.  , 0.  ,\n",
       "        0.  , 0.  , 0.  , 0.  , 0.  , 0.  , 0.  ],\n",
       "       [0.  , 0.  , 0.  , 0.  , 0.  , 0.87, 0.  , 0.13, 0.  , 0.  , 0.  ,\n",
       "        0.  , 0.  , 0.  , 0.  , 0.  , 0.  , 0.  ],\n",
       "       [0.  , 0.  , 0.  , 0.  , 0.  , 0.  , 0.46, 0.38, 0.16, 0.  , 0.  ,\n",
       "        0.  , 0.  , 0.  , 0.  , 0.  , 0.  , 0.  ],\n",
       "       [0.  , 0.  , 0.  , 0.  , 0.  , 0.  , 0.  , 0.77, 0.17, 0.05, 0.  ,\n",
       "        0.  , 0.  , 0.  , 0.  , 0.  , 0.  , 0.  ],\n",
       "       [0.  , 0.  , 0.  , 0.  , 0.  , 0.  , 0.  , 0.  , 0.74, 0.08, 0.18,\n",
       "        0.  , 0.  , 0.  , 0.  , 0.  , 0.  , 0.  ],\n",
       "       [0.  , 0.  , 0.  , 0.  , 0.  , 0.  , 0.  , 0.  , 0.  , 0.72, 0.04,\n",
       "        0.24, 0.  , 0.  , 0.  , 0.  , 0.  , 0.  ],\n",
       "       [0.  , 0.  , 0.  , 0.  , 0.  , 0.  , 0.  , 0.  , 0.  , 0.  , 0.49,\n",
       "        0.09, 0.41, 0.  , 0.  , 0.  , 0.  , 0.  ],\n",
       "       [0.  , 0.  , 0.  , 0.  , 0.  , 0.  , 0.  , 0.  , 0.  , 0.  , 0.  ,\n",
       "        0.63, 0.33, 0.04, 0.  , 0.  , 0.  , 0.  ],\n",
       "       [0.  , 0.  , 0.  , 0.  , 0.  , 0.  , 0.  , 0.  , 0.  , 0.  , 0.  ,\n",
       "        0.  , 0.78, 0.22, 0.  , 0.  , 0.  , 0.  ],\n",
       "       [0.  , 0.  , 0.  , 0.  , 0.  , 0.  , 0.  , 0.  , 0.  , 0.  , 0.  ,\n",
       "        0.  , 0.  , 0.59, 0.1 , 0.31, 0.  , 0.  ],\n",
       "       [0.  , 0.  , 0.  , 0.  , 0.  , 0.  , 0.  , 0.  , 0.  , 0.  , 0.  ,\n",
       "        0.  , 0.  , 0.  , 0.82, 0.  , 0.18, 0.  ],\n",
       "       [0.  , 0.  , 0.  , 0.  , 0.  , 0.  , 0.  , 0.  , 0.  , 0.  , 0.  ,\n",
       "        0.  , 0.  , 0.  , 0.  , 1.  , 0.  , 0.  ],\n",
       "       [0.  , 0.  , 0.  , 0.  , 0.  , 0.  , 0.  , 0.  , 0.  , 0.  , 0.  ,\n",
       "        0.  , 0.  , 0.  , 0.  , 0.  , 0.92, 0.08],\n",
       "       [0.  , 0.  , 0.  , 0.  , 0.  , 0.  , 0.  , 0.  , 0.  , 0.  , 0.  ,\n",
       "        0.  , 0.  , 0.  , 0.  , 0.  , 0.  , 1.  ]])"
      ]
     },
     "execution_count": 27,
     "metadata": {},
     "output_type": "execute_result"
    }
   ],
   "source": [
    "np.around(models['khong'].transmat_, 2)"
   ]
  },
  {
   "cell_type": "code",
   "execution_count": 28,
   "metadata": {},
   "outputs": [
    {
     "data": {
      "text/plain": [
       "array([[0.86, 0.12, 0.02, 0.  , 0.  , 0.  , 0.  , 0.  , 0.  , 0.  , 0.  ,\n",
       "        0.  , 0.  , 0.  , 0.  ],\n",
       "       [0.  , 0.82, 0.18, 0.  , 0.  , 0.  , 0.  , 0.  , 0.  , 0.  , 0.  ,\n",
       "        0.  , 0.  , 0.  , 0.  ],\n",
       "       [0.  , 0.  , 0.85, 0.15, 0.  , 0.  , 0.  , 0.  , 0.  , 0.  , 0.  ,\n",
       "        0.  , 0.  , 0.  , 0.  ],\n",
       "       [0.  , 0.  , 0.  , 0.77, 0.22, 0.  , 0.  , 0.  , 0.  , 0.  , 0.  ,\n",
       "        0.  , 0.  , 0.  , 0.  ],\n",
       "       [0.  , 0.  , 0.  , 0.  , 0.35, 0.24, 0.41, 0.  , 0.  , 0.  , 0.  ,\n",
       "        0.  , 0.  , 0.  , 0.  ],\n",
       "       [0.  , 0.  , 0.  , 0.  , 0.  , 0.88, 0.  , 0.12, 0.  , 0.  , 0.  ,\n",
       "        0.  , 0.  , 0.  , 0.  ],\n",
       "       [0.  , 0.  , 0.  , 0.  , 0.  , 0.  , 0.12, 0.88, 0.  , 0.  , 0.  ,\n",
       "        0.  , 0.  , 0.  , 0.  ],\n",
       "       [0.  , 0.  , 0.  , 0.  , 0.  , 0.  , 0.  , 0.58, 0.39, 0.04, 0.  ,\n",
       "        0.  , 0.  , 0.  , 0.  ],\n",
       "       [0.  , 0.  , 0.  , 0.  , 0.  , 0.  , 0.  , 0.  , 0.83, 0.  , 0.17,\n",
       "        0.  , 0.  , 0.  , 0.  ],\n",
       "       [0.  , 0.  , 0.  , 0.  , 0.  , 0.  , 0.  , 0.  , 0.  , 0.  , 0.24,\n",
       "        0.76, 0.  , 0.  , 0.  ],\n",
       "       [0.  , 0.  , 0.  , 0.  , 0.  , 0.  , 0.  , 0.  , 0.  , 0.  , 0.6 ,\n",
       "        0.  , 0.4 , 0.  , 0.  ],\n",
       "       [0.  , 0.  , 0.  , 0.  , 0.  , 0.  , 0.  , 0.  , 0.  , 0.  , 0.  ,\n",
       "        0.94, 0.  , 0.06, 0.  ],\n",
       "       [0.  , 0.  , 0.  , 0.  , 0.  , 0.  , 0.  , 0.  , 0.  , 0.  , 0.  ,\n",
       "        0.  , 0.65, 0.06, 0.29],\n",
       "       [0.  , 0.  , 0.  , 0.  , 0.  , 0.  , 0.  , 0.  , 0.  , 0.  , 0.  ,\n",
       "        0.  , 0.  , 0.94, 0.06],\n",
       "       [0.  , 0.  , 0.  , 0.  , 0.  , 0.  , 0.  , 0.  , 0.  , 0.  , 0.  ,\n",
       "        0.  , 0.  , 0.  , 1.  ]])"
      ]
     },
     "execution_count": 28,
     "metadata": {},
     "output_type": "execute_result"
    }
   ],
   "source": [
    "np.around(models['toi'].transmat_, 2)"
   ]
  },
  {
   "cell_type": "markdown",
   "metadata": {},
   "source": [
    "## Test dữ liệu nói từ micro"
   ]
  },
  {
   "cell_type": "code",
   "execution_count": 25,
   "metadata": {},
   "outputs": [
    {
     "name": "stdout",
     "output_type": "stream",
     "text": [
      "Load khong dataset\n",
      "Load tôi dataset\n",
      "Load cachly dataset\n",
      "Load cothe dataset\n",
      "Load nguoi dataset\n"
     ]
    }
   ],
   "source": [
    "testset1 = {}\n",
    "n_test1 = {}\n",
    "for cname in class_names:\n",
    "    print(f\"Load {cname} dataset\")\n",
    "    testset1[cname] = get_class_data(os.path.join('data','test_'+cname))\n",
    "    n_test1[cname] = len(testset1[cname])"
   ]
  },
  {
   "cell_type": "code",
   "execution_count": 30,
   "metadata": {},
   "outputs": [],
   "source": [
    "for cname in class_names:\n",
    "    testset1[cname] = list([kmeans.predict(v).reshape(-1, 1) for v in testset1[cname]])"
   ]
  },
  {
   "cell_type": "code",
   "execution_count": 31,
   "metadata": {
    "collapsed": true,
    "jupyter": {
     "outputs_hidden": true
    }
   },
   "outputs": [
    {
     "name": "stdout",
     "output_type": "stream",
     "text": [
      "Testing\n",
      "bệnh nhân {'bệnh nhân': -85.01895072882863, 'chúng ta': -116.89227689303209, 'có thể': -145.5429951589105, 'người': -79.12924074435324, 'Việt Nam': -105.07484469037391} predict: người\n",
      "bệnh nhân {'bệnh nhân': -68.56648775916136, 'chúng ta': -135.8658249915291, 'có thể': -145.92926637729198, 'người': -109.12223911501658, 'Việt Nam': -130.38131951425976} predict: bệnh nhân\n",
      "bệnh nhân {'bệnh nhân': -57.163946179657664, 'chúng ta': -184.1771335088101, 'có thể': -126.65149206275542, 'người': -80.46311942385488, 'Việt Nam': -76.78814830780043} predict: bệnh nhân\n",
      "bệnh nhân {'bệnh nhân': -80.41844963773977, 'chúng ta': -185.13929588212147, 'có thể': -146.46293056268, 'người': -112.6877792505747, 'Việt Nam': -190.7548103572772} predict: bệnh nhân\n",
      "bệnh nhân {'bệnh nhân': -64.49725977557267, 'chúng ta': -132.75405520685666, 'có thể': -103.81233439400432, 'người': -167.05841916754355, 'Việt Nam': -85.70916966073456} predict: bệnh nhân\n",
      "chúng ta {'bệnh nhân': -1613.4628264667938, 'chúng ta': -101.14681425938991, 'có thể': -368.6017755413556, 'người': -998.2371610264595, 'Việt Nam': -133.6485362687141} predict: chúng ta\n",
      "chúng ta {'bệnh nhân': -inf, 'chúng ta': -107.51496131847453, 'có thể': -209.44317731456542, 'người': -938.0824795533641, 'Việt Nam': -145.80219491653614} predict: chúng ta\n",
      "chúng ta {'bệnh nhân': -inf, 'chúng ta': -94.52911781580906, 'có thể': -928.8191414191452, 'người': -2304.6265165301893, 'Việt Nam': -inf} predict: chúng ta\n",
      "chúng ta {'bệnh nhân': -inf, 'chúng ta': -81.47947865616936, 'có thể': -742.2794904440495, 'người': -inf, 'Việt Nam': -124.37891894591185} predict: chúng ta\n",
      "chúng ta {'bệnh nhân': -142.5106919180137, 'chúng ta': -110.44865949525378, 'có thể': -149.5538526012349, 'người': -89.90571706412797, 'Việt Nam': -76.09823073685915} predict: Việt Nam\n",
      "chúng ta {'bệnh nhân': -811.3386113729824, 'chúng ta': -74.75825902260807, 'có thể': -335.8483534108339, 'người': -576.536868700971, 'Việt Nam': -81.01965161880135} predict: chúng ta\n",
      "có thể {'bệnh nhân': -121.52078253056298, 'chúng ta': -143.35761454323358, 'có thể': -74.90883491111967, 'người': -82.8813109723058, 'Việt Nam': -146.35000522476176} predict: có thể\n",
      "có thể {'bệnh nhân': -116.16963641201916, 'chúng ta': -154.4892784448596, 'có thể': -70.06536856084038, 'người': -307.20661423527304, 'Việt Nam': -162.60321545512403} predict: có thể\n",
      "có thể {'bệnh nhân': -236.82613384077143, 'chúng ta': -161.20628491691613, 'có thể': -167.86593374750706, 'người': -359.27502537868435, 'Việt Nam': -191.03399148224347} predict: chúng ta\n",
      "có thể {'bệnh nhân': -143.7425581445494, 'chúng ta': -150.36333372352624, 'có thể': -104.24153337625977, 'người': -222.53079198069352, 'Việt Nam': -138.60807897733727} predict: có thể\n",
      "có thể {'bệnh nhân': -141.27666618543992, 'chúng ta': -144.26145968789103, 'có thể': -74.51936465619423, 'người': -447.63171780192977, 'Việt Nam': -inf} predict: có thể\n",
      "người {'bệnh nhân': -61.583138226246156, 'chúng ta': -79.87184843283995, 'có thể': -64.51967933107416, 'người': -40.7242732433805, 'Việt Nam': -74.64342747669227} predict: người\n",
      "người {'bệnh nhân': -59.139469484051865, 'chúng ta': -85.304903688283, 'có thể': -84.74730199707874, 'người': -50.21803634311244, 'Việt Nam': -70.03275290977874} predict: người\n",
      "người {'bệnh nhân': -52.75063675412559, 'chúng ta': -88.57903399119039, 'có thể': -77.1027847627851, 'người': -52.32567839701824, 'Việt Nam': -67.26274053443942} predict: người\n",
      "người {'bệnh nhân': -103.27033029080148, 'chúng ta': -108.76909663224961, 'có thể': -114.40241880220502, 'người': -74.0111130267182, 'Việt Nam': -132.08046603273925} predict: người\n",
      "người {'bệnh nhân': -86.56099077301425, 'chúng ta': -76.54668923677626, 'có thể': -122.17112604799075, 'người': -60.17205455815225, 'Việt Nam': -78.9236570920565} predict: người\n",
      "Việt Nam {'bệnh nhân': -99.58224226889607, 'chúng ta': -169.20363018462393, 'có thể': -146.3295742468155, 'người': -196.72448468817961, 'Việt Nam': -94.81694618134027} predict: Việt Nam\n",
      "Việt Nam {'bệnh nhân': -85.8627223962134, 'chúng ta': -156.63869121235015, 'có thể': -136.0100120222951, 'người': -179.89766928921946, 'Việt Nam': -60.923001477766995} predict: Việt Nam\n",
      "Việt Nam {'bệnh nhân': -82.95535884263604, 'chúng ta': -130.42709534825084, 'có thể': -185.69712015960386, 'người': -158.83109148654333, 'Việt Nam': -66.53116244126251} predict: Việt Nam\n",
      "Việt Nam {'bệnh nhân': -78.07313503093611, 'chúng ta': -110.17587262847084, 'có thể': -118.00458009675867, 'người': -79.10929464246033, 'Việt Nam': -72.00823380758712} predict: Việt Nam\n",
      "Việt Nam {'bệnh nhân': -101.31610861675775, 'chúng ta': -165.60520454932362, 'có thể': -160.5143882172043, 'người': -163.77865460975516, 'Việt Nam': -75.82211935908882} predict: Việt Nam\n",
      "Việt Nam {'bệnh nhân': -103.4050642086066, 'chúng ta': -146.16151168604637, 'có thể': -186.0077789463118, 'người': -184.37869905139155, 'Việt Nam': -89.31593114161697} predict: Việt Nam\n"
     ]
    }
   ],
   "source": [
    "print(\"Testing\")\n",
    "n_correct = {'khong': 0, 'toi': 0, 'cothe': 0, 'nguoi': 0,'cachly': 0}\n",
    "for true_cname in class_names:\n",
    "    for O in testset1[true_cname]:\n",
    "        score = {cname: model.score(O, [len(O)]) for cname, model in models.items()}\n",
    "        if (true_cname == max(score, key=score.get)): n_correct1[true_cname] += 1\n",
    "        print(true_cname, score, 'predict:', max(score, key=score.get))"
   ]
  },
  {
   "cell_type": "code",
   "execution_count": 32,
   "metadata": {},
   "outputs": [
    {
     "name": "stdout",
     "output_type": "stream",
     "text": [
      "Accuracy: bệnh nhân 0.8\n",
      "Accuracy: chúng ta 0.8333333333333334\n",
      "Accuracy: có thể 0.8\n",
      "Accuracy: người 1.0\n",
      "Accuracy: Việt Nam 1.0\n"
     ]
    }
   ],
   "source": [
    "for cname in class_names:\n",
    "    print('Accuracy:', cname, n_correct1[cname]/n_test1[cname])"
   ]
  },
  {
   "cell_type": "code",
   "execution_count": 33,
   "metadata": {},
   "outputs": [
    {
     "name": "stdout",
     "output_type": "stream",
     "text": [
      "{'bệnh nhân': 5, 'chúng ta': 6, 'có thể': 5, 'người': 5, 'Việt Nam': 6}\n"
     ]
    }
   ],
   "source": [
    "print(n_test1)"
   ]
  },
  {
   "cell_type": "code",
   "execution_count": 34,
   "metadata": {},
   "outputs": [
    {
     "data": {
      "text/plain": [
       "array([[0.83, 0.06, 0.11, 0.  , 0.  , 0.  , 0.  , 0.  , 0.  ],\n",
       "       [0.  , 0.82, 0.18, 0.  , 0.  , 0.  , 0.  , 0.  , 0.  ],\n",
       "       [0.  , 0.  , 0.81, 0.06, 0.12, 0.  , 0.  , 0.  , 0.  ],\n",
       "       [0.  , 0.  , 0.  , 0.86, 0.14, 0.  , 0.  , 0.  , 0.  ],\n",
       "       [0.  , 0.  , 0.  , 0.  , 0.91, 0.05, 0.04, 0.  , 0.  ],\n",
       "       [0.  , 0.  , 0.  , 0.  , 0.  , 0.98, 0.  , 0.02, 0.  ],\n",
       "       [0.  , 0.  , 0.  , 0.  , 0.  , 0.  , 0.96, 0.04, 0.  ],\n",
       "       [0.  , 0.  , 0.  , 0.  , 0.  , 0.  , 0.  , 0.83, 0.17],\n",
       "       [0.  , 0.  , 0.  , 0.  , 0.  , 0.  , 0.  , 0.  , 1.  ]])"
      ]
     },
     "execution_count": 34,
     "metadata": {},
     "output_type": "execute_result"
    }
   ],
   "source": [
    "np.around(models['nguoi'].transmat_, 2)"
   ]
  },
  {
   "cell_type": "code",
   "execution_count": 35,
   "metadata": {},
   "outputs": [],
   "source": [
    "import pickle"
   ]
  },
  {
   "cell_type": "code",
   "execution_count": 36,
   "metadata": {},
   "outputs": [],
   "source": [
    "filename = 'hmm_models.sav'\n",
    "pickle.dump(models, open(filename, 'wb'))"
   ]
  },
  {
   "cell_type": "code",
   "execution_count": 38,
   "metadata": {},
   "outputs": [],
   "source": [
    "pickle.dump(kmeans, open('kmeans.sav', 'wb'))"
   ]
  },
  {
   "cell_type": "code",
   "execution_count": null,
   "metadata": {},
   "outputs": [],
   "source": []
  }
 ],
 "metadata": {
  "kernelspec": {
   "display_name": "Python 3",
   "language": "python",
   "name": "python3"
  },
  "language_info": {
   "codemirror_mode": {
    "name": "ipython",
    "version": 3
   },
   "file_extension": ".py",
   "mimetype": "text/x-python",
   "name": "python",
   "nbconvert_exporter": "python",
   "pygments_lexer": "ipython3",
   "version": "3.7.6"
  }
 },
 "nbformat": 4,
 "nbformat_minor": 4
}

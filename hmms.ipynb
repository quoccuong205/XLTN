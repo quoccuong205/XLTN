{
 "cells": [
  {
   "cell_type": "code",
   "execution_count": 138,
   "metadata": {},
   "outputs": [],
   "source": [
    "import librosa\n",
    "import numpy as np\n",
    "import os\n",
    "import math\n",
    "from sklearn.cluster import KMeans\n",
    "import hmmlearn.hmm"
   ]
  },
  {
   "cell_type": "markdown",
   "metadata": {},
   "source": [
    "## lấy mfcc của file wav"
   ]
  },
  {
   "cell_type": "code",
   "execution_count": 139,
   "metadata": {},
   "outputs": [],
   "source": [
    "# read file\n",
    "def get_mfcc(file_path):\n",
    "    y, sr = librosa.load(file_path) # read .wav file\n",
    "    hop_length = math.floor(sr*0.010) # 10ms hop\n",
    "    win_length = math.floor(sr*0.025) # 25ms frame\n",
    "    # mfcc is 12 x T matrix\n",
    "    mfcc = librosa.feature.mfcc(\n",
    "        y, sr, n_mfcc=12, n_fft=1024,\n",
    "        hop_length=hop_length, win_length=win_length)\n",
    "    # substract mean from mfcc --> normalize mfcc\n",
    "    mfcc = mfcc - np.mean(mfcc, axis=1).reshape((-1,1)) \n",
    "    # delta feature 1st order and 2nd order\n",
    "    delta1 = librosa.feature.delta(mfcc, order=1)\n",
    "    delta2 = librosa.feature.delta(mfcc, order=2)\n",
    "    # X is 36 x T\n",
    "    X = np.concatenate([mfcc, delta1, delta2], axis=0) # O^r\n",
    "    # return T x 36 (transpose of X)\n",
    "    return X.T # hmmlearn use T x N matrix"
   ]
  },
  {
   "cell_type": "markdown",
   "metadata": {},
   "source": [
    "## lấy mfcc của tất cả các file trong dir"
   ]
  },
  {
   "cell_type": "code",
   "execution_count": 140,
   "metadata": {},
   "outputs": [],
   "source": [
    "# lấy mfcc của tất cả các file wav trong wav\n",
    "def get_class_data(data_dir):\n",
    "    files = os.listdir(data_dir)\n",
    "    mfcc = [get_mfcc(os.path.join(data_dir,f)) for f in files if f.endswith(\".wav\")]\n",
    "    return mfcc"
   ]
  },
  {
   "cell_type": "markdown",
   "metadata": {},
   "source": [
    "## Hàm Clustering"
   ]
  },
  {
   "cell_type": "code",
   "execution_count": 141,
   "metadata": {},
   "outputs": [],
   "source": [
    "def clustering(X, n_clusters=14):\n",
    "    kmeans = KMeans(n_clusters=n_clusters, n_init=50, random_state=0, verbose=0)\n",
    "    kmeans.fit(X)\n",
    "    print(\"centers\", kmeans.cluster_centers_.shape)\n",
    "    return kmeans"
   ]
  },
  {
   "cell_type": "code",
   "execution_count": null,
   "metadata": {},
   "outputs": [],
   "source": []
  },
  {
   "cell_type": "markdown",
   "metadata": {},
   "source": [
    "## Data"
   ]
  },
  {
   "cell_type": "code",
   "execution_count": 142,
   "metadata": {},
   "outputs": [
    {
     "name": "stdout",
     "output_type": "stream",
     "text": [
      "Load khong dataset\n",
      "Load tôi dataset\n",
      "Load cachly dataset\n",
      "Load chungta dataset\n",
      "Load nguoi dataset\n"
     ]
    }
   ],
   "source": [
    "class_names = [\"khong\",\"tôi\",\"cachly\", \"chungta\" , 'nguoi'  ]\n",
    "dataset = {}\n",
    "for cname in class_names:\n",
    "    print(f\"Load {cname} dataset\")\n",
    "    dataset[cname] = get_class_data(os.path.join( cname))\n"
   ]
  },
  {
   "cell_type": "code",
   "execution_count": 143,
   "metadata": {},
   "outputs": [
    {
     "name": "stdout",
     "output_type": "stream",
     "text": [
      "99\n"
     ]
    }
   ],
   "source": [
    "print(len(dataset['khong']))"
   ]
  },
  {
   "cell_type": "code",
   "execution_count": 144,
   "metadata": {},
   "outputs": [
    {
     "name": "stdout",
     "output_type": "stream",
     "text": [
      "69\n"
     ]
    }
   ],
   "source": [
    "trainset = {}\n",
    "testset = {}\n",
    "n_test = {'khong': 0, 'tôi': 0, 'cachly': 0, 'chungta': 0,'nguoi': 0}\n",
    "for cname in class_names:\n",
    "    n = len(dataset[cname])\n",
    "    n_train = math.floor(n*0.7)\n",
    "    trainset[cname] = dataset[cname][:n_train]\n",
    "    testset[cname] = dataset[cname][n_train:]\n",
    "    n_test[cname] += len(testset[cname])\n",
    "    \n",
    "print(len(trainset['khong']))"
   ]
  },
  {
   "cell_type": "markdown",
   "metadata": {},
   "source": [
    "## Fit kmeans trên tập train"
   ]
  },
  {
   "cell_type": "code",
   "execution_count": 145,
   "metadata": {},
   "outputs": [
    {
     "name": "stdout",
     "output_type": "stream",
     "text": [
      "vectors (14828, 36)\n",
      "centers (14, 36)\n",
      "centers (14, 36)\n",
      "KMeans(algorithm='auto', copy_x=True, init='k-means++', max_iter=300,\n",
      "       n_clusters=14, n_init=50, n_jobs=None, precompute_distances='auto',\n",
      "       random_state=0, tol=0.0001, verbose=0)\n"
     ]
    }
   ],
   "source": [
    "# Get all vectors in the datasets\n",
    "all_vectors = np.concatenate([np.concatenate(v, axis=0) for k, v in trainset.items()], axis=0)\n",
    "print(\"vectors\", all_vectors.shape)\n",
    "# Run K-Means algorithm to get clusters\n",
    "kmeans = clustering(all_vectors)\n",
    "print(\"centers\", kmeans.cluster_centers_.shape)\n",
    "print(kmeans)"
   ]
  },
  {
   "cell_type": "code",
   "execution_count": 146,
   "metadata": {},
   "outputs": [],
   "source": [
    "for cname in class_names:\n",
    "    trainset[cname] = list([kmeans.predict(v).reshape(-1, 1) for v in trainset[cname]])\n",
    "    testset[cname] = list([kmeans.predict(v).reshape(-1, 1) for v in testset[cname]])\n",
    "\n",
    "    "
   ]
  },
  {
   "cell_type": "markdown",
   "metadata": {},
   "source": [
    "# Train"
   ]
  },
  {
   "cell_type": "code",
   "execution_count": 147,
   "metadata": {},
   "outputs": [],
   "source": [
    "models = {}"
   ]
  },
  {
   "cell_type": "markdown",
   "metadata": {},
   "source": [
    "## Model cho 'trong' 3x3\n"
   ]
  },
  {
   "cell_type": "code",
   "execution_count": 148,
   "metadata": {
    "scrolled": true
   },
   "outputs": [
    {
     "name": "stdout",
     "output_type": "stream",
     "text": [
      "training class tôi\n",
      "(752, 1) [15, 17, 11, 13, 17, 21, 21, 14, 15, 12, 11, 18, 15, 16, 10, 27, 42, 17, 17, 30, 30, 12, 14, 14, 14, 18, 25, 17, 15, 9, 17, 22, 12, 12, 30, 36, 17, 15, 13, 15, 16, 20] 42\n"
     ]
    },
    {
     "name": "stderr",
     "output_type": "stream",
     "text": [
      "         1       -1947.3763             +nan\n",
      "         2       -1316.8090        +630.5673\n",
      "         3       -1168.2716        +148.5374\n",
      "         4       -1108.9502         +59.3214\n",
      "         5       -1077.3403         +31.6099\n",
      "         6       -1062.1979         +15.1424\n",
      "         7       -1053.7554          +8.4424\n",
      "         8       -1046.3397          +7.4157\n",
      "         9       -1039.5296          +6.8101\n",
      "        10       -1033.5266          +6.0030\n",
      "        11       -1028.0082          +5.5185\n",
      "        12       -1023.1567          +4.8515\n",
      "        13       -1019.3966          +3.7600\n",
      "        14       -1016.5969          +2.7997\n",
      "        15       -1014.0818          +2.5151\n",
      "        16       -1011.9334          +2.1485\n",
      "        17       -1010.1708          +1.7626\n",
      "        18       -1007.9262          +2.2446\n",
      "        19       -1006.0843          +1.8419\n",
      "        20       -1005.0148          +1.0695\n",
      "        21       -1004.0909          +0.9239\n",
      "        22       -1003.2726          +0.8182\n",
      "        23       -1002.7074          +0.5652\n",
      "        24       -1002.3520          +0.3554\n",
      "        25       -1002.1312          +0.2208\n",
      "        26       -1001.9937          +0.1375\n",
      "        27       -1001.9065          +0.0871\n",
      "        28       -1001.8496          +0.0570\n",
      "        29       -1001.8108          +0.0388\n",
      "        30       -1001.7832          +0.0276\n",
      "        31       -1001.7625          +0.0207\n",
      "        32       -1001.7464          +0.0162\n",
      "        33       -1001.7332          +0.0132\n",
      "        34       -1001.7221          +0.0111\n",
      "        35       -1001.7125          +0.0096"
     ]
    },
    {
     "name": "stdout",
     "output_type": "stream",
     "text": [
      "Training done\n"
     ]
    },
    {
     "name": "stderr",
     "output_type": "stream",
     "text": [
      "\n"
     ]
    }
   ],
   "source": [
    "hmm = hmmlearn.hmm.MultinomialHMM(n_components=3*3, random_state=0, n_iter=1000, verbose=True, init_params='e', params='ste')\n",
    "hmm.startprob_ = np.array([0.6,0.3,0.1,0.0,0.0,0.0,0.0,0.0,0.0])\n",
    "hmm.transmat_ = np.array([\n",
    "        [0.5,0.3,0.2,0.0,0.0,0.0,0.0,0.0,0.0],\n",
    "        [0.0,0.5,0.3,0.2,0.0,0.0,0.0,0.0,0.0],\n",
    "        [0.0,0.0,0.5,0.3,0.2,0.0,0.0,0.0,0.0],\n",
    "        [0.0,0.0,0.0,0.5,0.3,0.2,0.0,0.0,0.0],\n",
    "        [0.0,0.0,0.0,0.0,0.5,0.3,0.2,0.0,0.0],\n",
    "        [0.0,0.0,0.0,0.0,0.0,0.5,0.3,0.2,0.0],\n",
    "        [0.0,0.0,0.0,0.0,0.0,0.0,0.5,0.3,0.2],\n",
    "        [0.0,0.0,0.0,0.0,0.0,0.0,0.0,0.6,0.4],\n",
    "        [0.0,0.0,0.0,0.0,0.0,0.0,0.0,0.0,1.0],\n",
    "    ])\n",
    "Xbn = np.concatenate(trainset['tôi'])\n",
    "lengths = list([len(x) for x in trainset['tôi']])\n",
    "print(\"training class\", 'tôi')\n",
    "print(Xbn.shape, lengths, len(lengths))\n",
    "hmm.fit(Xbn, lengths=lengths)\n",
    "models['tôi'] = hmm\n",
    "print(\"Training done\")"
   ]
  },
  {
   "cell_type": "markdown",
   "metadata": {},
   "source": [
    "## Model cho 'không' 3x3"
   ]
  },
  {
   "cell_type": "code",
   "execution_count": 149,
   "metadata": {},
   "outputs": [
    {
     "name": "stderr",
     "output_type": "stream",
     "text": [
      "         1       -9923.9092             +nan\n",
      "         2       -3805.4575       +6118.4517\n",
      "         3       -3221.1122        +584.3453\n"
     ]
    },
    {
     "name": "stdout",
     "output_type": "stream",
     "text": [
      "training class khong\n",
      "(3943, 1) [26, 101, 29, 101, 31, 34, 25, 15, 22, 46, 30, 33, 101, 25, 101, 101, 101, 101, 101, 101, 101, 101, 101, 101, 101, 38, 19, 27, 22, 31, 25, 31, 26, 27, 101, 101, 101, 101, 101, 101, 101, 101, 101, 101, 101, 101, 23, 25, 23, 45, 26, 19, 23, 30, 24, 101, 28, 28, 27, 25, 31, 32, 23, 22, 18, 28, 101, 29, 24] 69\n"
     ]
    },
    {
     "name": "stderr",
     "output_type": "stream",
     "text": [
      "         4       -2972.0441        +249.0681\n",
      "         5       -2590.1777        +381.8664\n",
      "         6       -2523.5079         +66.6698\n",
      "         7       -2502.0478         +21.4601\n",
      "         8       -2498.0873          +3.9605\n",
      "         9       -2497.2987          +0.7886\n",
      "        10       -2497.0403          +0.2584\n",
      "        11       -2496.8540          +0.1863\n",
      "        12       -2496.6424          +0.2116\n",
      "        13       -2496.4072          +0.2352\n",
      "        14       -2496.2024          +0.2048\n",
      "        15       -2496.0646          +0.1378\n",
      "        16       -2495.9844          +0.0802\n",
      "        17       -2495.9380          +0.0464\n",
      "        18       -2495.9090          +0.0291\n",
      "        19       -2495.8889          +0.0201\n",
      "        20       -2495.8739          +0.0150\n",
      "        21       -2495.8622          +0.0117\n"
     ]
    },
    {
     "name": "stdout",
     "output_type": "stream",
     "text": [
      "Training done\n"
     ]
    },
    {
     "name": "stderr",
     "output_type": "stream",
     "text": [
      "        22       -2495.8528          +0.0094\n"
     ]
    }
   ],
   "source": [
    "hmm = hmmlearn.hmm.MultinomialHMM(n_components=3*3, random_state=0, n_iter=1000, verbose=True, init_params='e', params='ste')\n",
    "hmm.startprob_ = np.array([0.7, 0.2, 0.1, 0.0, 0.0, 0.0, 0.0, 0.0, 0.0, ])\n",
    "hmm.transmat_ =np.array([\n",
    "    [0.7, 0.2, 0.1, 0.0, 0.0, 0.0, 0.0, 0.0, 0.0, ],\n",
    "    [0.0, 0.7, 0.2, 0.1, 0.0, 0.0, 0.0, 0.0, 0.0, ],\n",
    "    [0.0, 0.0, 0.7, 0.2, 0.1, 0.0, 0.0, 0.0, 0.0, ],\n",
    "    [0.0, 0.0, 0.0, 0.7, 0.2, 0.1, 0.0, 0.0, 0.0, ],\n",
    "    [0.0, 0.0, 0.0, 0.0, 0.7, 0.2, 0.1, 0.0, 0.0, ],\n",
    "    [0.0, 0.0, 0.0, 0.0, 0.0, 0.7, 0.2, 0.1, 0.0, ],\n",
    "    [0.0, 0.0, 0.0, 0.0, 0.0, 0.0, 0.7, 0.2, 0.1, ],\n",
    "    [0.0, 0.0, 0.0, 0.0, 0.0, 0.0, 0.0, 0.7, 0.3, ],\n",
    "    [0.0, 0.0, 0.0, 0.0, 0.0, 0.0, 0.0, 0.0, 1.0, ],])\n",
    "\n",
    "Xct = np.concatenate(trainset['khong'])\n",
    "lengths = list([len(x) for x in trainset['khong']])\n",
    "print(\"training class\", 'khong')\n",
    "print(Xct.shape, lengths, len(lengths))\n",
    "hmm.fit(Xct, lengths=lengths)\n",
    "models['khong'] = hmm\n",
    "print(\"Training done\")"
   ]
  },
  {
   "cell_type": "markdown",
   "metadata": {},
   "source": [
    "## Model cho 'chúng ta' 5x3"
   ]
  },
  {
   "cell_type": "code",
   "execution_count": 150,
   "metadata": {},
   "outputs": [
    {
     "name": "stdout",
     "output_type": "stream",
     "text": [
      "training class chungta\n",
      "(2759, 1) [41, 38, 28, 46, 47, 36, 43, 34, 36, 42, 36, 40, 36, 37, 30, 40, 36, 41, 36, 37, 36, 42, 40, 35, 39, 38, 38, 41, 36, 44, 38, 59, 49, 37, 31, 43, 52, 42, 50, 48, 46, 54, 55, 47, 45, 35, 38, 38, 42, 38, 43, 33, 35, 32, 42, 32, 39, 41, 40, 37, 35, 37, 47, 31, 34, 36, 34, 34, 31, 30] 70\n"
     ]
    },
    {
     "name": "stderr",
     "output_type": "stream",
     "text": [
      "         1       -7277.2052             +nan\n",
      "         2       -4430.2630       +2846.9422\n",
      "         3       -3691.6995        +738.5635\n",
      "         4       -3376.0417        +315.6578\n",
      "         5       -3254.6046        +121.4371\n",
      "         6       -3202.1050         +52.4995\n",
      "         7       -3167.4954         +34.6096\n",
      "         8       -3144.2036         +23.2919\n",
      "         9       -3133.1564         +11.0471\n",
      "        10       -3126.8390          +6.3174\n",
      "        11       -3121.3974          +5.4416\n",
      "        12       -3115.5329          +5.8645\n",
      "        13       -3110.5442          +4.9887\n",
      "        14       -3107.3638          +3.1804\n",
      "        15       -3105.5228          +1.8410\n",
      "        16       -3104.3796          +1.1431\n",
      "        17       -3103.5712          +0.8084\n",
      "        18       -3102.9006          +0.6707\n",
      "        19       -3102.2351          +0.6654\n",
      "        20       -3101.4388          +0.7963\n",
      "        21       -3100.4174          +1.0214\n",
      "        22       -3099.3323          +1.0851\n",
      "        23       -3098.3987          +0.9336\n",
      "        24       -3097.5705          +0.8281\n",
      "        25       -3095.8283          +1.7423\n",
      "        26       -3089.1266          +6.7017\n",
      "        27       -3086.5038          +2.6228\n",
      "        28       -3085.8520          +0.6518\n",
      "        29       -3085.3382          +0.5138\n",
      "        30       -3081.4488          +3.8894\n",
      "        31       -3077.5751          +3.8737\n",
      "        32       -3076.6165          +0.9586\n",
      "        33       -3076.3318          +0.2847\n",
      "        34       -3076.2280          +0.1038\n",
      "        35       -3076.1783          +0.0497\n",
      "        36       -3076.1475          +0.0307\n",
      "        37       -3076.1247          +0.0228\n",
      "        38       -3076.1057          +0.0189\n",
      "        39       -3076.0891          +0.0167\n",
      "        40       -3076.0739          +0.0152\n",
      "        41       -3076.0598          +0.0141\n",
      "        42       -3076.0464          +0.0134\n",
      "        43       -3076.0335          +0.0130\n",
      "        44       -3076.0206          +0.0128\n",
      "        45       -3076.0076          +0.0130\n",
      "        46       -3075.9942          +0.0135\n",
      "        47       -3075.9799          +0.0143\n",
      "        48       -3075.9645          +0.0155\n",
      "        49       -3075.9474          +0.0170\n",
      "        50       -3075.9286          +0.0189\n",
      "        51       -3075.9076          +0.0210\n",
      "        52       -3075.8844          +0.0231\n",
      "        53       -3075.8595          +0.0249\n",
      "        54       -3075.8335          +0.0260\n",
      "        55       -3075.8072          +0.0263\n",
      "        56       -3075.7818          +0.0254\n",
      "        57       -3075.7581          +0.0237\n",
      "        58       -3075.7367          +0.0214\n",
      "        59       -3075.7180          +0.0187\n",
      "        60       -3075.7019          +0.0160\n",
      "        61       -3075.6884          +0.0135\n",
      "        62       -3075.6772          +0.0113\n"
     ]
    },
    {
     "name": "stdout",
     "output_type": "stream",
     "text": [
      "Training done\n"
     ]
    },
    {
     "name": "stderr",
     "output_type": "stream",
     "text": [
      "        63       -3075.6679          +0.0093\n"
     ]
    }
   ],
   "source": [
    "hmm = hmmlearn.hmm.MultinomialHMM(n_components=5*3, random_state=0, n_iter=1000, verbose=True, init_params='e', params='ste')\n",
    "hmm.startprob_ = np.array([0.7, 0.2, 0.1, 0.0, 0.0, 0.0, 0.0, 0.0, 0.0, 0.0, 0.0, 0.0, 0.0, 0.0, 0.0, ])\n",
    "hmm.transmat_ =np.array([\n",
    "    [0.7, 0.2, 0.1, 0.0, 0.0, 0.0, 0.0, 0.0, 0.0, 0.0, 0.0, 0.0, 0.0, 0.0, 0.0, ],\n",
    "    [0.0, 0.7, 0.2, 0.1, 0.0, 0.0, 0.0, 0.0, 0.0, 0.0, 0.0, 0.0, 0.0, 0.0, 0.0, ],\n",
    "    [0.0, 0.0, 0.7, 0.2, 0.1, 0.0, 0.0, 0.0, 0.0, 0.0, 0.0, 0.0, 0.0, 0.0, 0.0, ],\n",
    "    [0.0, 0.0, 0.0, 0.7, 0.2, 0.1, 0.0, 0.0, 0.0, 0.0, 0.0, 0.0, 0.0, 0.0, 0.0, ],\n",
    "    [0.0, 0.0, 0.0, 0.0, 0.7, 0.2, 0.1, 0.0, 0.0, 0.0, 0.0, 0.0, 0.0, 0.0, 0.0, ],\n",
    "    [0.0, 0.0, 0.0, 0.0, 0.0, 0.7, 0.2, 0.1, 0.0, 0.0, 0.0, 0.0, 0.0, 0.0, 0.0, ],\n",
    "    [0.0, 0.0, 0.0, 0.0, 0.0, 0.0, 0.7, 0.2, 0.1, 0.0, 0.0, 0.0, 0.0, 0.0, 0.0, ],\n",
    "    [0.0, 0.0, 0.0, 0.0, 0.0, 0.0, 0.0, 0.7, 0.2, 0.1, 0.0, 0.0, 0.0, 0.0, 0.0, ],\n",
    "    [0.0, 0.0, 0.0, 0.0, 0.0, 0.0, 0.0, 0.0, 0.7, 0.2, 0.1, 0.0, 0.0, 0.0, 0.0, ],\n",
    "    [0.0, 0.0, 0.0, 0.0, 0.0, 0.0, 0.0, 0.0, 0.0, 0.7, 0.2, 0.1, 0.0, 0.0, 0.0, ],\n",
    "    [0.0, 0.0, 0.0, 0.0, 0.0, 0.0, 0.0, 0.0, 0.0, 0.0, 0.7, 0.2, 0.1, 0.0, 0.0, ],\n",
    "    [0.0, 0.0, 0.0, 0.0, 0.0, 0.0, 0.0, 0.0, 0.0, 0.0, 0.0, 0.7, 0.2, 0.1, 0.0, ],\n",
    "    [0.0, 0.0, 0.0, 0.0, 0.0, 0.0, 0.0, 0.0, 0.0, 0.0, 0.0, 0.0, 0.7, 0.2, 0.1, ],\n",
    "    [0.0, 0.0, 0.0, 0.0, 0.0, 0.0, 0.0, 0.0, 0.0, 0.0, 0.0, 0.0, 0.0, 0.7, 0.3, ],\n",
    "    [0.0, 0.0, 0.0, 0.0, 0.0, 0.0, 0.0, 0.0, 0.0, 0.0, 0.0, 0.0, 0.0, 0.0, 1.0, ],])\n",
    "\n",
    "Xct = np.concatenate(trainset['chungta'])\n",
    "lengths = list([len(x) for x in trainset['chungta']])\n",
    "print(\"training class\", 'chungta')\n",
    "print(Xct.shape, lengths, len(lengths))\n",
    "hmm.fit(Xct, lengths=lengths)\n",
    "models['chungta'] = hmm\n",
    "print(\"Training done\")"
   ]
  },
  {
   "cell_type": "markdown",
   "metadata": {},
   "source": [
    "## Model cho 'người' 3x3"
   ]
  },
  {
   "cell_type": "code",
   "execution_count": 151,
   "metadata": {},
   "outputs": [
    {
     "name": "stderr",
     "output_type": "stream",
     "text": [
      "         1       -4331.5619             +nan\n",
      "         2       -2637.6080       +1693.9539\n",
      "         3       -2358.1194        +279.4886\n",
      "         4       -2249.8806        +108.2387\n",
      "         5       -2184.6397         +65.2409\n"
     ]
    },
    {
     "name": "stdout",
     "output_type": "stream",
     "text": [
      "training class nguoi\n",
      "(1673, 1) [25, 22, 20, 18, 23, 25, 25, 38, 20, 25, 27, 22, 23, 23, 20, 26, 23, 19, 28, 24, 25, 19, 22, 28, 19, 24, 28, 20, 20, 32, 20, 18, 20, 31, 22, 19, 24, 14, 22, 15, 13, 22, 19, 25, 18, 27, 20, 20, 24, 17, 22, 19, 22, 26, 20, 23, 35, 28, 22, 30, 25, 27, 26, 23, 31, 30, 21, 19, 18, 20, 22, 15, 26] 73\n"
     ]
    },
    {
     "name": "stderr",
     "output_type": "stream",
     "text": [
      "         6       -2133.8010         +50.8387\n",
      "         7       -2096.1157         +37.6853\n",
      "         8       -2082.0622         +14.0536\n",
      "         9       -2074.5602          +7.5020\n",
      "        10       -2069.7656          +4.7946\n",
      "        11       -2066.1168          +3.6488\n",
      "        12       -2063.0868          +3.0300\n",
      "        13       -2060.4910          +2.5958\n",
      "        14       -2058.2566          +2.2344\n",
      "        15       -2056.5507          +1.7059\n",
      "        16       -2055.2940          +1.2567\n",
      "        17       -2054.1703          +1.1237\n",
      "        18       -2052.8300          +1.3403\n",
      "        19       -2050.8995          +1.9306\n",
      "        20       -2048.6746          +2.2248\n",
      "        21       -2046.8430          +1.8316\n",
      "        22       -2045.3426          +1.5004\n",
      "        23       -2043.8057          +1.5370\n",
      "        24       -2041.8606          +1.9451\n",
      "        25       -2039.3092          +2.5514\n",
      "        26       -2036.0760          +3.2332\n",
      "        27       -2032.2723          +3.8037\n",
      "        28       -2028.3200          +3.9523\n",
      "        29       -2024.7297          +3.5902\n",
      "        30       -2021.6606          +3.0691\n",
      "        31       -2018.8718          +2.7888\n",
      "        32       -2016.1210          +2.7507\n",
      "        33       -2013.2838          +2.8372\n",
      "        34       -2010.3678          +2.9160\n",
      "        35       -2007.5645          +2.8034\n",
      "        36       -2005.1128          +2.4516\n",
      "        37       -2003.0293          +2.0835\n",
      "        38       -2001.1036          +1.9257\n",
      "        39       -1999.0864          +2.0172\n",
      "        40       -1996.7661          +2.3203\n",
      "        41       -1993.7965          +2.9696\n",
      "        42       -1989.3395          +4.4570\n",
      "        43       -1981.9932          +7.3463\n",
      "        44       -1972.8317          +9.1615\n",
      "        45       -1966.9707          +5.8610\n",
      "        46       -1964.5438          +2.4269\n",
      "        47       -1963.3720          +1.1718\n",
      "        48       -1962.6808          +0.6911\n",
      "        49       -1962.2570          +0.4238\n",
      "        50       -1961.9966          +0.2604\n",
      "        51       -1961.8342          +0.1624\n",
      "        52       -1961.7293          +0.1049\n",
      "        53       -1961.6573          +0.0721\n",
      "        54       -1961.6030          +0.0543\n",
      "        55       -1961.5571          +0.0459\n",
      "        56       -1961.5130          +0.0441\n",
      "        57       -1961.4555          +0.0575\n",
      "        58       -1961.1804          +0.2751\n",
      "        59       -1959.4661          +1.7143\n",
      "        60       -1957.4363          +2.0299\n",
      "        61       -1956.9698          +0.4665\n",
      "        62       -1956.8953          +0.0745\n",
      "        63       -1956.8677          +0.0276\n",
      "        64       -1956.8511          +0.0166\n"
     ]
    },
    {
     "name": "stdout",
     "output_type": "stream",
     "text": [
      "Training done\n"
     ]
    },
    {
     "name": "stderr",
     "output_type": "stream",
     "text": [
      "        65       -1956.8393          +0.0118\n",
      "        66       -1956.8297          +0.0096\n"
     ]
    }
   ],
   "source": [
    "hmm = hmmlearn.hmm.MultinomialHMM(n_components=3*3, random_state=0, n_iter=1000, verbose=True, init_params='e', params='ste')\n",
    "hmm.startprob_ = np.array([0.7, 0.2, 0.1, 0.0, 0.0, 0.0, 0.0, 0.0, 0.0, ])\n",
    "hmm.transmat_ =np.array([\n",
    "    [0.7, 0.2, 0.1, 0.0, 0.0, 0.0, 0.0, 0.0, 0.0, ],\n",
    "    [0.0, 0.7, 0.2, 0.1, 0.0, 0.0, 0.0, 0.0, 0.0, ],\n",
    "    [0.0, 0.0, 0.7, 0.2, 0.1, 0.0, 0.0, 0.0, 0.0, ],\n",
    "    [0.0, 0.0, 0.0, 0.7, 0.2, 0.1, 0.0, 0.0, 0.0, ],\n",
    "    [0.0, 0.0, 0.0, 0.0, 0.7, 0.2, 0.1, 0.0, 0.0, ],\n",
    "    [0.0, 0.0, 0.0, 0.0, 0.0, 0.7, 0.2, 0.1, 0.0, ],\n",
    "    [0.0, 0.0, 0.0, 0.0, 0.0, 0.0, 0.7, 0.2, 0.1, ],\n",
    "    [0.0, 0.0, 0.0, 0.0, 0.0, 0.0, 0.0, 0.7, 0.3, ],\n",
    "    [0.0, 0.0, 0.0, 0.0, 0.0, 0.0, 0.0, 0.0, 1.0, ],])\n",
    "\n",
    "Xcth = np.concatenate(trainset['nguoi'])\n",
    "lengths = list([len(x) for x in trainset['nguoi']])\n",
    "print(\"training class\", 'nguoi')\n",
    "print(Xcth.shape, lengths, len(lengths))\n",
    "hmm.fit(Xcth, lengths=lengths)\n",
    "models['nguoi'] = hmm\n",
    "print(\"Training done\")"
   ]
  },
  {
   "cell_type": "markdown",
   "metadata": {},
   "source": [
    "## Model cho 'Cách Ly' 5x3"
   ]
  },
  {
   "cell_type": "code",
   "execution_count": 152,
   "metadata": {},
   "outputs": [
    {
     "name": "stderr",
     "output_type": "stream",
     "text": [
      "         1      -14739.7238             +nan\n"
     ]
    },
    {
     "name": "stdout",
     "output_type": "stream",
     "text": [
      "training class cachly\n",
      "(5701, 1) [50, 37, 55, 51, 28, 49, 49, 49, 49, 61, 61, 65, 71, 37, 34, 89, 54, 54, 54, 49, 56, 39, 31, 51, 50, 63, 32, 82, 29, 36, 54, 51, 57, 62, 56, 38, 60, 60, 60, 60, 2957, 51, 59, 61, 89, 64, 64, 64, 64, 39, 58, 58] 52\n"
     ]
    },
    {
     "name": "stderr",
     "output_type": "stream",
     "text": [
      "         2      -11084.0167       +3655.7071\n",
      "         3      -10405.5979        +678.4188\n",
      "         4      -10070.4033        +335.1946\n",
      "         5       -9751.5643        +318.8389\n",
      "         6       -9508.3696        +243.1947\n",
      "         7       -9403.8375        +104.5321\n",
      "         8       -9362.6565         +41.1810\n",
      "         9       -9343.6440         +19.0125\n",
      "        10       -9334.6185          +9.0255\n",
      "        11       -9329.7750          +4.8434\n",
      "        12       -9326.1812          +3.5938\n",
      "        13       -9322.3804          +3.8007\n",
      "        14       -9317.0641          +5.3163\n",
      "        15       -9308.1906          +8.8735\n",
      "        16       -9293.2758         +14.9148\n",
      "        17       -9272.1210         +21.1548\n",
      "        18       -9247.3870         +24.7340\n",
      "        19       -9227.4523         +19.9347\n",
      "        20       -9219.0810          +8.3713\n",
      "        21       -9216.3229          +2.7582\n",
      "        22       -9214.2009          +2.1220\n",
      "        23       -9211.8362          +2.3647\n",
      "        24       -9207.9186          +3.9175\n",
      "        25       -9200.2155          +7.7031\n",
      "        26       -9197.9067          +2.3088\n",
      "        27       -9196.4401          +1.4666\n",
      "        28       -9195.0085          +1.4316\n",
      "        29       -9193.4674          +1.5411\n",
      "        30       -9191.8675          +1.6000\n",
      "        31       -9190.3422          +1.5253\n",
      "        32       -9188.9954          +1.3469\n",
      "        33       -9187.8433          +1.1521\n",
      "        34       -9186.8782          +0.9651\n",
      "        35       -9186.1444          +0.7337\n",
      "        36       -9185.6699          +0.4745\n",
      "        37       -9185.3979          +0.2720\n",
      "        38       -9185.2450          +0.1530\n",
      "        39       -9185.1507          +0.0943\n",
      "        40       -9185.0787          +0.0720\n",
      "        41       -9185.0069          +0.0718\n",
      "        42       -9184.9266          +0.0803\n",
      "        43       -9184.8467          +0.0798\n",
      "        44       -9184.7851          +0.0617\n",
      "        45       -9184.7479          +0.0371\n",
      "        46       -9184.7285          +0.0194\n",
      "        47       -9184.7184          +0.0101\n"
     ]
    },
    {
     "name": "stdout",
     "output_type": "stream",
     "text": [
      "Training done\n"
     ]
    },
    {
     "name": "stderr",
     "output_type": "stream",
     "text": [
      "        48       -9184.7112          +0.0072\n"
     ]
    }
   ],
   "source": [
    "hmm = hmmlearn.hmm.MultinomialHMM(n_components=5*3, random_state=0, n_iter=1000, verbose=True, init_params='e', params='ste')\n",
    "hmm.startprob_ = np.array([0.7,0.2,0.1,0.0,0.0,0.0, 0.0,0.0,0.0,0.0,0.0,0.0,0.0, 0.0,0.0])\n",
    "hmm.transmat_ =np.array([\n",
    "    [0.5,0.3,0.2,0.0,0.0,0.0, 0.0, 0.0, 0.0,0.0, 0.0, 0.0,0.0, 0.0,0.0],\n",
    "        [0.0,0.5,0.3,0.2,0.0,0.0, 0.0, 0.0, 0.0,0.0, 0.0, 0.0,0.0, 0.0,0.0],\n",
    "        [0.0,0.0,0.5,0.3,0.2,0.0, 0.0, 0.0, 0.0,0.0, 0.0, 0.0,0.0, 0.0,0.0],\n",
    "        [0.0,0.0,0.0,0.5,0.3,0.2,0.0, 0.0, 0.0,0.0, 0.0, 0.0,0.0, 0.0,0.0],\n",
    "        [0.0,0.0,0.0,0.0,0.5,0.3,0.2,0.0,0.0,0.0, 0.0, 0.0,0.0, 0.0,0.0],\n",
    "        [0.0,0.0,0.0,0.0,0.0,0.5,0.3,0.2,0.0,0.0, 0.0, 0.0,0.0, 0.0,0.0],\n",
    "        [0.0,0.0,0.0,0.0,0.0,0.0,0.5,0.3,0.2,0.0,0.0, 0.0,0.0, 0.0,0.0],\n",
    "        [0.0,0.0,0.0,0.0,0.0,0.0,0.0,0.5,0.3,0.2,0.0,0.0,0.0, 0.0,0.0],\n",
    "        [0.0,0.0,0.0,0.0,0.0,0.0,0.0,0.0,0.5,0.3,0.2,0.0,0.0, 0.0,0.0],\n",
    "        [0.0,0.0,0.0,0.0,0.0,0.0,0.0,0.0,0.0,0.5,0.3,0.2,0.0, 0.0,0.0],\n",
    "        [0.0,0.0,0.0,0.0,0.0,0.0,0.0,0.0,0.0,0.0,0.5,0.3,0.2,0.0,0.0],\n",
    "        [0.0,0.0,0.0,0.0,0.0,0.0,0.0,0.0,0.0,0.0,0.0,0.5,0.3,0.2,0.0],\n",
    "        [0.0,0.0,0.0,0.0,0.0,0.0,0.0,0.0,0.0,0.0,0.0,0.0,0.5,0.3,0.2],\n",
    "        [0.0,0.0,0.0,0.0,0.0,0.0,0.0,0.0,0.0,0.0,0.0,0.0,0.0,0.5,0.5],\n",
    "        [0.0,0.0,0.0,0.0,0.0,0.0,0.0,0.0,0.0,0.0,0.0,0.0,0.0,0.0,1.0],])\n",
    "Xvn = np.concatenate(trainset['cachly'])\n",
    "lengths = list([len(x) for x in trainset['cachly']])\n",
    "print(\"training class\", 'cachly')\n",
    "print(Xvn.shape, lengths, len(lengths))\n",
    "hmm.fit(Xvn, lengths=lengths)\n",
    "models['cachly'] = hmm\n",
    "print(\"Training done\")"
   ]
  },
  {
   "cell_type": "markdown",
   "metadata": {},
   "source": [
    "# Test"
   ]
  },
  {
   "cell_type": "code",
   "execution_count": 153,
   "metadata": {},
   "outputs": [
    {
     "name": "stdout",
     "output_type": "stream",
     "text": [
      "Testing\n",
      "khong {'tôi': -41.15884638829622, 'khong': -31.181263272061482, 'chungta': -38.55125973610246, 'nguoi': -43.54860743681232, 'cachly': -43.917562164662264} predict: khong\n",
      "khong {'tôi': -85.5174917658584, 'khong': -36.378739221159506, 'chungta': -56.499844130510745, 'nguoi': -53.168727082788244, 'cachly': -58.55225647259785} predict: khong\n",
      "khong {'tôi': -127.42077440221723, 'khong': -45.64086844465595, 'chungta': -65.00611281393837, 'nguoi': -46.16178887787726, 'cachly': -37.63695729147794} predict: cachly\n",
      "khong {'tôi': -61.20495462430816, 'khong': -38.505871120256266, 'chungta': -210.04138635265156, 'nguoi': -44.80290930751864, 'cachly': -34.25026909110338} predict: cachly\n",
      "khong {'tôi': -231.98311818286652, 'khong': -83.30870378810774, 'chungta': -431.1600708774199, 'nguoi': -506.0550095817847, 'cachly': -95.7073196351781} predict: khong\n",
      "khong {'tôi': -684.9235322899567, 'khong': -45.31264048735336, 'chungta': -458.850902840716, 'nguoi': -62.63654407258419, 'cachly': -51.927506735800485} predict: khong\n",
      "khong {'tôi': -56.20620394855444, 'khong': -34.83979857072012, 'chungta': -286.38140433773833, 'nguoi': -64.69864139582401, 'cachly': -33.30191809612115} predict: cachly\n",
      "khong {'tôi': -667.4723755085072, 'khong': -71.10098999838986, 'chungta': -443.9224914111894, 'nguoi': -59.49349128187878, 'cachly': -55.352968940788024} predict: cachly\n",
      "khong {'tôi': -inf, 'khong': -25.953757601909402, 'chungta': -inf, 'nguoi': -inf, 'cachly': -inf} predict: khong\n",
      "khong {'tôi': -inf, 'khong': -86.81472724057875, 'chungta': -inf, 'nguoi': -inf, 'cachly': -inf} predict: khong\n",
      "khong {'tôi': -inf, 'khong': -23.08588435723724, 'chungta': -inf, 'nguoi': -inf, 'cachly': -inf} predict: khong\n",
      "khong {'tôi': -inf, 'khong': -28.478762321606542, 'chungta': -inf, 'nguoi': -inf, 'cachly': -inf} predict: khong\n",
      "khong {'tôi': -inf, 'khong': -21.52090536258207, 'chungta': -inf, 'nguoi': -inf, 'cachly': -inf} predict: khong\n",
      "khong {'tôi': -inf, 'khong': -25.558559073845345, 'chungta': -inf, 'nguoi': -inf, 'cachly': -inf} predict: khong\n",
      "khong {'tôi': -inf, 'khong': -125.17517103021586, 'chungta': -inf, 'nguoi': -inf, 'cachly': -inf} predict: khong\n",
      "khong {'tôi': -inf, 'khong': -43.15115334506819, 'chungta': -inf, 'nguoi': -inf, 'cachly': -inf} predict: khong\n",
      "khong {'tôi': -inf, 'khong': -21.424591288082944, 'chungta': -inf, 'nguoi': -inf, 'cachly': -inf} predict: khong\n",
      "khong {'tôi': -inf, 'khong': -80.99560278316505, 'chungta': -inf, 'nguoi': -inf, 'cachly': -inf} predict: khong\n",
      "khong {'tôi': -inf, 'khong': -20.51141779805393, 'chungta': -inf, 'nguoi': -inf, 'cachly': -inf} predict: khong\n",
      "khong {'tôi': -inf, 'khong': -66.09688296637869, 'chungta': -inf, 'nguoi': -inf, 'cachly': -inf} predict: khong\n",
      "khong {'tôi': -inf, 'khong': -24.826778919127502, 'chungta': -inf, 'nguoi': -inf, 'cachly': -inf} predict: khong\n",
      "khong {'tôi': -inf, 'khong': -24.081111569772347, 'chungta': -inf, 'nguoi': -inf, 'cachly': -inf} predict: khong\n",
      "khong {'tôi': -inf, 'khong': -26.17838072468143, 'chungta': -inf, 'nguoi': -inf, 'cachly': -inf} predict: khong\n",
      "khong {'tôi': -inf, 'khong': -21.994651387730833, 'chungta': -inf, 'nguoi': -inf, 'cachly': -inf} predict: khong\n",
      "khong {'tôi': -inf, 'khong': -22.392877069280225, 'chungta': -inf, 'nguoi': -inf, 'cachly': -inf} predict: khong\n",
      "khong {'tôi': -inf, 'khong': -44.485378134842094, 'chungta': -inf, 'nguoi': -inf, 'cachly': -inf} predict: khong\n",
      "khong {'tôi': -inf, 'khong': -51.24872654340307, 'chungta': -inf, 'nguoi': -inf, 'cachly': -inf} predict: khong\n",
      "khong {'tôi': -inf, 'khong': -25.48984396716982, 'chungta': -inf, 'nguoi': -inf, 'cachly': -inf} predict: khong\n",
      "khong {'tôi': -inf, 'khong': -51.185101835774354, 'chungta': -inf, 'nguoi': -inf, 'cachly': -inf} predict: khong\n",
      "khong {'tôi': -inf, 'khong': -20.22110958194691, 'chungta': -inf, 'nguoi': -inf, 'cachly': -inf} predict: khong\n",
      "tôi {'tôi': -18.660604593515902, 'khong': -18.809441843490603, 'chungta': -31.478405774043125, 'nguoi': -19.497572390363292, 'cachly': -28.900972386470258} predict: tôi\n",
      "tôi {'tôi': -44.47350263306792, 'khong': -48.69635903452919, 'chungta': -50.429547984688035, 'nguoi': -212.30331113404455, 'cachly': -72.09948929523843} predict: tôi\n",
      "tôi {'tôi': -36.372235543915046, 'khong': -53.90913793718635, 'chungta': -73.25277591960841, 'nguoi': -467.5369412368683, 'cachly': -58.838711599685496} predict: tôi\n",
      "tôi {'tôi': -38.633480521084266, 'khong': -34.14400634717354, 'chungta': -34.28213973756729, 'nguoi': -35.68484835609482, 'cachly': -41.858812495361015} predict: khong\n",
      "tôi {'tôi': -22.84261767225115, 'khong': -31.196855944013006, 'chungta': -29.470976855413653, 'nguoi': -24.02232477936425, 'cachly': -38.020289243897025} predict: tôi\n",
      "tôi {'tôi': -15.988135004681887, 'khong': -31.991025709972707, 'chungta': -101.88864294444603, 'nguoi': -14.215194457420157, 'cachly': -25.687625936444707} predict: nguoi\n",
      "tôi {'tôi': -25.66033026497498, 'khong': -30.622983532396656, 'chungta': -109.1084934058211, 'nguoi': -33.87394960035667, 'cachly': -40.78446678924992} predict: tôi\n",
      "tôi {'tôi': -19.36271965436201, 'khong': -23.399628734113254, 'chungta': -105.93864170349332, 'nguoi': -24.566328856879075, 'cachly': -27.178638697484082} predict: tôi\n",
      "tôi {'tôi': -41.12836942877159, 'khong': -58.6491394067832, 'chungta': -206.95704159261726, 'nguoi': -34.36101170768517, 'cachly': -44.44772068659368} predict: nguoi\n",
      "tôi {'tôi': -30.28694455299254, 'khong': -35.48957557042868, 'chungta': -46.64838470407851, 'nguoi': -28.77197981987877, 'cachly': -32.81484142125836} predict: nguoi\n",
      "tôi {'tôi': -25.66033026497498, 'khong': -30.622983532396656, 'chungta': -109.1084934058211, 'nguoi': -33.87394960035667, 'cachly': -40.78446678924992} predict: tôi\n",
      "tôi {'tôi': -185.9855659885619, 'khong': -291.7443318467461, 'chungta': -220.06503143466983, 'nguoi': -263.37567602282877, 'cachly': -255.4764359582102} predict: tôi\n",
      "tôi {'tôi': -18.660604593515902, 'khong': -18.809441843490603, 'chungta': -31.478405774043125, 'nguoi': -19.497572390363292, 'cachly': -28.900972386470258} predict: tôi\n",
      "tôi {'tôi': -44.47350263306792, 'khong': -48.69635903452919, 'chungta': -50.429547984688035, 'nguoi': -212.30331113404455, 'cachly': -72.09948929523843} predict: tôi\n",
      "tôi {'tôi': -36.372235543915046, 'khong': -53.90913793718635, 'chungta': -73.25277591960841, 'nguoi': -467.5369412368683, 'cachly': -58.838711599685496} predict: tôi\n",
      "tôi {'tôi': -24.84991685679153, 'khong': -27.17025083673306, 'chungta': -32.39744095058293, 'nguoi': -32.750925079360414, 'cachly': -32.51794777424646} predict: tôi\n",
      "tôi {'tôi': -47.26225479089489, 'khong': -43.16934752268622, 'chungta': -49.43472083748918, 'nguoi': -42.9385064456042, 'cachly': -52.35308732997628} predict: nguoi\n",
      "tôi {'tôi': -22.84261767225115, 'khong': -31.196855944013006, 'chungta': -29.470976855413653, 'nguoi': -24.02232477936425, 'cachly': -38.020289243897025} predict: tôi\n",
      "tôi {'tôi': -15.988135004681887, 'khong': -31.991025709972707, 'chungta': -101.88864294444603, 'nguoi': -14.215194457420157, 'cachly': -25.687625936444707} predict: nguoi\n",
      "cachly {'tôi': -667.2295909353696, 'khong': -219.09570851760304, 'chungta': -258.62763105983265, 'nguoi': -870.4197089650296, 'cachly': -83.86247157520026} predict: cachly\n",
      "cachly {'tôi': -227.88073799766758, 'khong': -181.6828223260145, 'chungta': -379.18662384675247, 'nguoi': -722.9729215905503, 'cachly': -59.83746128566481} predict: cachly\n",
      "cachly {'tôi': -310.9181493188456, 'khong': -279.9365071729664, 'chungta': -340.7825978893127, 'nguoi': -968.5373506905277, 'cachly': -89.44507648791053} predict: cachly\n",
      "cachly {'tôi': -82.48211691547881, 'khong': -90.57349804421025, 'chungta': -206.68894264874572, 'nguoi': -65.19941487924415, 'cachly': -50.215979271234914} predict: cachly\n",
      "cachly {'tôi': -189.43201572217134, 'khong': -104.05581474988584, 'chungta': -248.12049467485065, 'nguoi': -69.14239313391556, 'cachly': -51.377808749304705} predict: cachly\n",
      "cachly {'tôi': -209.92182024018888, 'khong': -143.5737207941354, 'chungta': -274.95782076729716, 'nguoi': -186.72051282141211, 'cachly': -66.2679528987122} predict: cachly\n",
      "cachly {'tôi': -209.92182024018888, 'khong': -143.5737207941354, 'chungta': -274.95782076729716, 'nguoi': -186.72051282141211, 'cachly': -66.2679528987122} predict: cachly\n",
      "cachly {'tôi': -209.92182024018888, 'khong': -143.5737207941354, 'chungta': -274.95782076729716, 'nguoi': -186.72051282141211, 'cachly': -66.2679528987122} predict: cachly\n",
      "cachly {'tôi': -1805.541915763033, 'khong': -325.8736054921028, 'chungta': -386.36091999064365, 'nguoi': -3015.9221937532484, 'cachly': -195.31732465453246} predict: cachly\n",
      "cachly {'tôi': -1805.541915763033, 'khong': -325.8736054921028, 'chungta': -386.36091999064365, 'nguoi': -3015.9221937532484, 'cachly': -195.31732465453246} predict: cachly\n",
      "cachly {'tôi': -1805.541915763033, 'khong': -325.8736054921028, 'chungta': -386.36091999064365, 'nguoi': -3015.9221937532484, 'cachly': -195.31732465453246} predict: cachly\n",
      "cachly {'tôi': -92.13953927639243, 'khong': -66.90133716099518, 'chungta': -103.69550289655078, 'nguoi': -294.4984583798486, 'cachly': -49.90358693918016} predict: cachly\n",
      "cachly {'tôi': -56.046323785112506, 'khong': -65.73934045141391, 'chungta': -234.10249547002263, 'nguoi': -147.33151266863524, 'cachly': -56.7375798393501} predict: tôi\n",
      "cachly {'tôi': -1718.9458060729326, 'khong': -275.5021937114865, 'chungta': -404.3143109620263, 'nguoi': -1037.8697364734896, 'cachly': -144.07641382682218} predict: cachly\n",
      "cachly {'tôi': -717.9918880185779, 'khong': -200.857261719373, 'chungta': -351.8169770493405, 'nguoi': -1578.867419229027, 'cachly': -80.69173193174335} predict: cachly\n",
      "cachly {'tôi': -165.37123543166845, 'khong': -179.76050453037521, 'chungta': -265.66895373021663, 'nguoi': -824.7495429162807, 'cachly': -74.18913078538681} predict: cachly\n",
      "cachly {'tôi': -192.61055801282123, 'khong': -105.76006158591811, 'chungta': -133.4940918911971, 'nguoi': -446.04653599557406, 'cachly': -72.10509710966862} predict: cachly\n",
      "cachly {'tôi': -1397.0353085579861, 'khong': -346.6664573400719, 'chungta': -224.1971252879043, 'nguoi': -1427.5566688414583, 'cachly': -80.551733051022} predict: cachly\n",
      "cachly {'tôi': -88.21727970373621, 'khong': -71.6532204962209, 'chungta': -188.63385021691843, 'nguoi': -91.0203427436485, 'cachly': -61.034411200383474} predict: cachly\n",
      "cachly {'tôi': -131.13749501721355, 'khong': -186.6947687182344, 'chungta': -125.45502288927648, 'nguoi': -116.3600294610269, 'cachly': -89.1809386787534} predict: cachly\n",
      "cachly {'tôi': -1644.3812344646094, 'khong': -242.72138648107733, 'chungta': -388.52281303975633, 'nguoi': -1278.952245421599, 'cachly': -134.85721438571784} predict: cachly\n",
      "cachly {'tôi': -4006.343067237715, 'khong': -395.36866073022793, 'chungta': -321.85107210254927, 'nguoi': -856.8847732081659, 'cachly': -192.17065483377934} predict: cachly\n",
      "cachly {'tôi': -1799.2849892114702, 'khong': -257.1300250423341, 'chungta': -297.39620164411434, 'nguoi': -3232.8146353116017, 'cachly': -144.4921679606608} predict: cachly\n",
      "chungta {'tôi': -110.97524475861348, 'khong': -86.7812160963779, 'chungta': -49.114783873129774, 'nguoi': -190.99116662255702, 'cachly': -102.00982255377701} predict: chungta\n",
      "chungta {'tôi': -117.75641782773354, 'khong': -110.10254442764396, 'chungta': -48.22052251457947, 'nguoi': -292.0597522813346, 'cachly': -183.82772612135633} predict: chungta\n",
      "chungta {'tôi': -155.07780201808316, 'khong': -93.69851515448705, 'chungta': -40.751303043296325, 'nguoi': -1509.2945931571926, 'cachly': -119.57625577167146} predict: chungta\n",
      "chungta {'tôi': -104.6707055370675, 'khong': -101.71981875901527, 'chungta': -51.430672214632246, 'nguoi': -389.5291154625755, 'cachly': -109.6768199048189} predict: chungta\n",
      "chungta {'tôi': -172.30217985085096, 'khong': -191.9426184507085, 'chungta': -155.97372546950598, 'nguoi': -1373.0286962996754, 'cachly': -241.8812871180123} predict: chungta\n",
      "chungta {'tôi': -114.80381798538893, 'khong': -110.83329526266388, 'chungta': -47.88173419475361, 'nguoi': -144.03499908781524, 'cachly': -168.50617474236964} predict: chungta\n",
      "chungta {'tôi': -156.1778044415789, 'khong': -137.6274688329208, 'chungta': -141.11292568646493, 'nguoi': -1436.775813870916, 'cachly': -158.7486504588249} predict: khong\n",
      "chungta {'tôi': -268.68921768065314, 'khong': -162.44766428851582, 'chungta': -364.6090551775366, 'nguoi': -2638.2738863070235, 'cachly': -131.44245821555091} predict: cachly\n",
      "chungta {'tôi': -99.76962433138587, 'khong': -95.07783733557346, 'chungta': -41.81283499464692, 'nguoi': -134.00000610785995, 'cachly': -124.72867438336162} predict: chungta\n",
      "chungta {'tôi': -107.38321133643304, 'khong': -89.46232096902132, 'chungta': -44.856007744310226, 'nguoi': -135.13969199412495, 'cachly': -122.56058419019553} predict: chungta\n",
      "chungta {'tôi': -256.9164532869278, 'khong': -82.50400569631489, 'chungta': -46.17432924158082, 'nguoi': -204.00496482514117, 'cachly': -125.14637915419416} predict: chungta\n",
      "chungta {'tôi': -264.0785183692871, 'khong': -82.5075485992672, 'chungta': -42.79280566113348, 'nguoi': -823.6687278509992, 'cachly': -109.35498038273553} predict: chungta\n",
      "chungta {'tôi': -124.39597087711837, 'khong': -99.36296955247077, 'chungta': -35.89153023306835, 'nguoi': -839.6248906154481, 'cachly': -117.01383872134456} predict: chungta\n",
      "chungta {'tôi': -225.97008949691306, 'khong': -99.07913993091071, 'chungta': -33.513788384082154, 'nguoi': -272.65555821824546, 'cachly': -159.43614350541432} predict: chungta\n",
      "chungta {'tôi': -257.3980824604552, 'khong': -88.72810494401539, 'chungta': -45.53313116181688, 'nguoi': -167.98103835464426, 'cachly': -115.53446303543166} predict: chungta\n",
      "chungta {'tôi': -538.24719490863, 'khong': -86.31577666932587, 'chungta': -41.47526271451563, 'nguoi': -113.71803450036832, 'cachly': -104.71428447610008} predict: chungta\n",
      "chungta {'tôi': -209.84250852167673, 'khong': -92.29048175046113, 'chungta': -35.19154005219529, 'nguoi': -163.33967709268, 'cachly': -142.53390667212116} predict: chungta\n",
      "chungta {'tôi': -104.29979419237364, 'khong': -86.24608871044664, 'chungta': -39.44694500432098, 'nguoi': -166.4638621437736, 'cachly': -116.75800627785782} predict: chungta\n",
      "chungta {'tôi': -inf, 'khong': -248.32837165301999, 'chungta': -94.03986875971707, 'nguoi': -inf, 'cachly': -inf} predict: chungta\n",
      "chungta {'tôi': -166.18391708385673, 'khong': -85.43006593718114, 'chungta': -41.266566453854004, 'nguoi': -141.64159673497034, 'cachly': -105.4536375974233} predict: chungta\n",
      "chungta {'tôi': -562.8815672012363, 'khong': -78.77357871619101, 'chungta': -40.78986616553796, 'nguoi': -314.2075875210448, 'cachly': -86.06768368744501} predict: chungta\n",
      "chungta {'tôi': -183.54374722617726, 'khong': -81.44215764933588, 'chungta': -38.832148091350156, 'nguoi': -148.71528783372725, 'cachly': -107.27424794024795} predict: chungta\n",
      "chungta {'tôi': -125.92102382202303, 'khong': -94.63524592010938, 'chungta': -35.90176862070453, 'nguoi': -139.76632264239976, 'cachly': -114.89899235052995} predict: chungta\n",
      "chungta {'tôi': -289.30017081176413, 'khong': -105.3334063616975, 'chungta': -43.96526775208458, 'nguoi': -137.64917354073134, 'cachly': -117.55143479611176} predict: chungta\n",
      "chungta {'tôi': -215.85805603934455, 'khong': -77.94384092636646, 'chungta': -37.815141498910315, 'nguoi': -110.9206719563063, 'cachly': -109.33446421465068} predict: chungta\n",
      "chungta {'tôi': -269.81700388919984, 'khong': -65.2223901019685, 'chungta': -35.01593794853375, 'nguoi': -923.2807752852395, 'cachly': -103.10354019639482} predict: chungta\n",
      "chungta {'tôi': -116.93603217518594, 'khong': -76.72626791686483, 'chungta': -30.99390811347565, 'nguoi': -150.84285029262466, 'cachly': -127.7563524274367} predict: chungta\n",
      "chungta {'tôi': -178.23296327423148, 'khong': -85.8969177777072, 'chungta': -28.621921623639327, 'nguoi': -834.3435124857416, 'cachly': -107.50988485756382} predict: chungta\n",
      "chungta {'tôi': -207.09277538925372, 'khong': -70.48419813046938, 'chungta': -27.556622083018887, 'nguoi': -159.04941649163538, 'cachly': -123.4111429413433} predict: chungta\n",
      "chungta {'tôi': -94.79880918814698, 'khong': -76.6164140297378, 'chungta': -32.71527901729235, 'nguoi': -451.9263080495246, 'cachly': -104.93803004954214} predict: chungta\n",
      "nguoi {'tôi': -45.56744650909884, 'khong': -49.241326249133586, 'chungta': -52.252188326462715, 'nguoi': -28.264762433400296, 'cachly': -35.3840675822877} predict: nguoi\n",
      "nguoi {'tôi': -42.15062961439609, 'khong': -66.99800087357076, 'chungta': -88.59432599821987, 'nguoi': -38.6354728871036, 'cachly': -47.520375664760465} predict: nguoi\n",
      "nguoi {'tôi': -61.124740909808025, 'khong': -146.53739654016832, 'chungta': -126.42361935360985, 'nguoi': -35.944760250752836, 'cachly': -68.99313113922837} predict: nguoi\n",
      "nguoi {'tôi': -50.101096483012554, 'khong': -94.28632422535027, 'chungta': -93.06706078483376, 'nguoi': -44.865361326597096, 'cachly': -59.886741668901564} predict: nguoi\n",
      "nguoi {'tôi': -70.9365623111292, 'khong': -141.01783404061513, 'chungta': -124.63027786003225, 'nguoi': -57.85992782599579, 'cachly': -70.90585520072459} predict: nguoi\n",
      "nguoi {'tôi': -185.01339108109968, 'khong': -118.23351057724749, 'chungta': -185.36233851580283, 'nguoi': -48.96117823952503, 'cachly': -77.43866962382465} predict: nguoi\n",
      "nguoi {'tôi': -194.13478442869942, 'khong': -72.54332372158804, 'chungta': -142.80387756126913, 'nguoi': -47.313509516777664, 'cachly': -98.70698372396346} predict: nguoi\n",
      "nguoi {'tôi': -29.83168865629076, 'khong': -49.66031408947816, 'chungta': -42.094217712983685, 'nguoi': -26.17199945211097, 'cachly': -38.39261889608715} predict: nguoi\n",
      "nguoi {'tôi': -31.674608854338135, 'khong': -53.1042819077044, 'chungta': -47.274994761585745, 'nguoi': -18.46863157492164, 'cachly': -41.77907891954302} predict: nguoi\n",
      "nguoi {'tôi': -31.122720293308767, 'khong': -38.662699292801676, 'chungta': -33.37499023887583, 'nguoi': -25.2538225483323, 'cachly': -40.91342873284149} predict: nguoi\n",
      "nguoi {'tôi': -162.27551096668384, 'khong': -89.13401409968341, 'chungta': -70.38122410672455, 'nguoi': -57.760468357106106, 'cachly': -47.36100261681029} predict: cachly\n",
      "nguoi {'tôi': -40.281949931998, 'khong': -39.32823817149625, 'chungta': -42.52996719186275, 'nguoi': -31.367523556120297, 'cachly': -51.182003405192866} predict: nguoi\n",
      "nguoi {'tôi': -29.785592738919448, 'khong': -43.659150176009994, 'chungta': -169.85715155795907, 'nguoi': -17.576758929316505, 'cachly': -40.52465126935072} predict: nguoi\n",
      "nguoi {'tôi': -33.82740579805497, 'khong': -44.94753940573454, 'chungta': -41.51801608138397, 'nguoi': -25.535113931152825, 'cachly': -42.1006397354189} predict: nguoi\n",
      "nguoi {'tôi': -66.87375522186473, 'khong': -51.27424614218972, 'chungta': -114.24105386220926, 'nguoi': -37.73163175477893, 'cachly': -49.347385265355896} predict: nguoi\n",
      "nguoi {'tôi': -46.98086469666288, 'khong': -61.9992513177412, 'chungta': -132.24140449623653, 'nguoi': -24.25015599046738, 'cachly': -61.06675671523483} predict: nguoi\n",
      "nguoi {'tôi': -41.68151038983217, 'khong': -67.22111675914371, 'chungta': -131.4131873054355, 'nguoi': -29.694928127352952, 'cachly': -53.73835356508427} predict: nguoi\n",
      "nguoi {'tôi': -56.7439809200693, 'khong': -72.22107715290957, 'chungta': -145.4993090028807, 'nguoi': -25.824980002775813, 'cachly': -71.30572142208477} predict: nguoi\n",
      "nguoi {'tôi': -24.245590538366912, 'khong': -40.59401784876212, 'chungta': -38.287859339880214, 'nguoi': -18.945331959753858, 'cachly': -35.865570488748816} predict: nguoi\n",
      "nguoi {'tôi': -48.392648660184776, 'khong': -55.3086594933481, 'chungta': -93.18977616624862, 'nguoi': -19.0379131324086, 'cachly': -59.72947129259675} predict: nguoi\n",
      "nguoi {'tôi': -27.24193271767342, 'khong': -64.07666865802413, 'chungta': -190.78130352750475, 'nguoi': -18.14472507962787, 'cachly': -44.367918877479326} predict: nguoi\n",
      "nguoi {'tôi': -23.18352759254967, 'khong': -40.098602064590814, 'chungta': -195.22387904783977, 'nguoi': -17.753178090832655, 'cachly': -35.71551327861286} predict: nguoi\n",
      "nguoi {'tôi': -25.24402330082274, 'khong': -36.76512530898277, 'chungta': -36.01840157840003, 'nguoi': -19.988963694935986, 'cachly': -37.24836669141466} predict: nguoi\n",
      "nguoi {'tôi': -19.81576987766266, 'khong': -34.31077777394626, 'chungta': -42.143999981864404, 'nguoi': -18.182422719272985, 'cachly': -32.30595808003543} predict: nguoi\n",
      "nguoi {'tôi': -25.004554345633355, 'khong': -27.1720011590751, 'chungta': -27.610180955243912, 'nguoi': -26.771708293251624, 'cachly': -41.653241580542996} predict: tôi\n",
      "nguoi {'tôi': -28.507672259494075, 'khong': -52.36488337722575, 'chungta': -115.84618664948957, 'nguoi': -17.567604527504887, 'cachly': -37.50502139957363} predict: nguoi\n",
      "nguoi {'tôi': -32.339334438174475, 'khong': -40.18984710770723, 'chungta': -46.32832643722438, 'nguoi': -21.4567062376299, 'cachly': -31.730044099234654} predict: nguoi\n",
      "nguoi {'tôi': -27.71316762636161, 'khong': -47.55963923537051, 'chungta': -162.81096466744555, 'nguoi': -16.913501436944724, 'cachly': -33.32857507603833} predict: nguoi\n",
      "nguoi {'tôi': -18.908819836748663, 'khong': -39.93755698667205, 'chungta': -58.26123977334727, 'nguoi': -16.51997652795787, 'cachly': -32.68234593346795} predict: nguoi\n",
      "nguoi {'tôi': -inf, 'khong': -526.365301765642, 'chungta': -inf, 'nguoi': -inf, 'cachly': -inf} predict: khong\n",
      "nguoi {'tôi': -320.95931991695204, 'khong': -509.31410752039324, 'chungta': -370.49233058441337, 'nguoi': -270.0163757214117, 'cachly': -321.9789644861867} predict: nguoi\n",
      "nguoi {'tôi': -414.6493265806249, 'khong': -530.6190710822974, 'chungta': -483.1669389930631, 'nguoi': -304.3555106403204, 'cachly': -406.0715207346633} predict: nguoi\n"
     ]
    }
   ],
   "source": [
    "print(\"Testing\")\n",
    "n_correct = {'khong': 0, 'tôi': 0, 'chungta': 0, 'nguoi': 0,'cachly': 0}\n",
    "for true_cname in class_names:\n",
    "    for O in testset[true_cname]:\n",
    "        score = {cname: model.score(O, [len(O)]) for cname, model in models.items()}\n",
    "        if (true_cname == max(score, key=score.get)): n_correct[true_cname] += 1\n",
    "        print(true_cname, score, 'predict:', max(score, key=score.get))"
   ]
  },
  {
   "cell_type": "code",
   "execution_count": 154,
   "metadata": {},
   "outputs": [
    {
     "name": "stdout",
     "output_type": "stream",
     "text": [
      "Accuracy: khong 0.8666666666666667\n",
      "Accuracy: tôi 0.6842105263157895\n",
      "Accuracy: cachly 0.9565217391304348\n",
      "Accuracy: chungta 0.9333333333333333\n",
      "Accuracy: nguoi 0.90625\n"
     ]
    }
   ],
   "source": [
    "for cname in class_names:\n",
    "    print('Accuracy:', cname, n_correct[cname]/n_test[cname])"
   ]
  },
  {
   "cell_type": "code",
   "execution_count": 155,
   "metadata": {},
   "outputs": [
    {
     "name": "stdout",
     "output_type": "stream",
     "text": [
      "All Accuracy: 0.8805970149253731\n"
     ]
    }
   ],
   "source": [
    "print('All Accuracy:', sum(n_correct.values())/sum(n_test.values()))"
   ]
  },
  {
   "cell_type": "code",
   "execution_count": 156,
   "metadata": {},
   "outputs": [
    {
     "name": "stdout",
     "output_type": "stream",
     "text": [
      "{'khong': 30, 'tôi': 19, 'cachly': 23, 'chungta': 30, 'nguoi': 32}\n"
     ]
    }
   ],
   "source": [
    "print(n_test)"
   ]
  },
  {
   "cell_type": "code",
   "execution_count": 157,
   "metadata": {},
   "outputs": [
    {
     "data": {
      "text/plain": [
       "array([[0.81, 0.19, 0.  , 0.  , 0.  , 0.  , 0.  , 0.  , 0.  ],\n",
       "       [0.  , 0.85, 0.  , 0.15, 0.  , 0.  , 0.  , 0.  , 0.  ],\n",
       "       [0.  , 0.  , 0.8 , 0.01, 0.19, 0.  , 0.  , 0.  , 0.  ],\n",
       "       [0.  , 0.  , 0.  , 0.84, 0.  , 0.16, 0.  , 0.  , 0.  ],\n",
       "       [0.  , 0.  , 0.  , 0.  , 0.95, 0.  , 0.05, 0.  , 0.  ],\n",
       "       [0.  , 0.  , 0.  , 0.  , 0.  , 0.97, 0.01, 0.02, 0.  ],\n",
       "       [0.  , 0.  , 0.  , 0.  , 0.  , 0.  , 0.54, 0.02, 0.44],\n",
       "       [0.  , 0.  , 0.  , 0.  , 0.  , 0.  , 0.  , 1.  , 0.  ],\n",
       "       [0.  , 0.  , 0.  , 0.  , 0.  , 0.  , 0.  , 0.  , 1.  ]])"
      ]
     },
     "execution_count": 157,
     "metadata": {},
     "output_type": "execute_result"
    }
   ],
   "source": [
    "np.around(models['khong'].transmat_, 2)"
   ]
  },
  {
   "cell_type": "code",
   "execution_count": 158,
   "metadata": {},
   "outputs": [
    {
     "data": {
      "text/plain": [
       "array([[0.66, 0.  , 0.34, 0.  , 0.  , 0.  , 0.  , 0.  , 0.  ],\n",
       "       [0.  , 0.62, 0.01, 0.37, 0.  , 0.  , 0.  , 0.  , 0.  ],\n",
       "       [0.  , 0.  , 0.09, 0.59, 0.32, 0.  , 0.  , 0.  , 0.  ],\n",
       "       [0.  , 0.  , 0.  , 0.  , 0.  , 1.  , 0.  , 0.  , 0.  ],\n",
       "       [0.  , 0.  , 0.  , 0.  , 0.52, 0.  , 0.48, 0.  , 0.  ],\n",
       "       [0.  , 0.  , 0.  , 0.  , 0.  , 0.86, 0.01, 0.14, 0.  ],\n",
       "       [0.  , 0.  , 0.  , 0.  , 0.  , 0.  , 0.84, 0.16, 0.  ],\n",
       "       [0.  , 0.  , 0.  , 0.  , 0.  , 0.  , 0.  , 0.85, 0.15],\n",
       "       [0.  , 0.  , 0.  , 0.  , 0.  , 0.  , 0.  , 0.  , 1.  ]])"
      ]
     },
     "execution_count": 158,
     "metadata": {},
     "output_type": "execute_result"
    }
   ],
   "source": [
    "np.around(models['tôi'].transmat_, 2)"
   ]
  },
  {
   "cell_type": "code",
   "execution_count": 162,
   "metadata": {},
   "outputs": [
    {
     "data": {
      "text/plain": [
       "array([[0.85, 0.15, 0.  , 0.  , 0.  , 0.  , 0.  , 0.  , 0.  , 0.  , 0.  ,\n",
       "        0.  , 0.  , 0.  , 0.  ],\n",
       "       [0.  , 0.83, 0.16, 0.01, 0.  , 0.  , 0.  , 0.  , 0.  , 0.  , 0.  ,\n",
       "        0.  , 0.  , 0.  , 0.  ],\n",
       "       [0.  , 0.  , 0.85, 0.01, 0.14, 0.  , 0.  , 0.  , 0.  , 0.  , 0.  ,\n",
       "        0.  , 0.  , 0.  , 0.  ],\n",
       "       [0.  , 0.  , 0.  , 0.86, 0.  , 0.14, 0.  , 0.  , 0.  , 0.  , 0.  ,\n",
       "        0.  , 0.  , 0.  , 0.  ],\n",
       "       [0.  , 0.  , 0.  , 0.  , 0.76, 0.24, 0.  , 0.  , 0.  , 0.  , 0.  ,\n",
       "        0.  , 0.  , 0.  , 0.  ],\n",
       "       [0.  , 0.  , 0.  , 0.  , 0.  , 0.85, 0.05, 0.1 , 0.  , 0.  , 0.  ,\n",
       "        0.  , 0.  , 0.  , 0.  ],\n",
       "       [0.  , 0.  , 0.  , 0.  , 0.  , 0.  , 0.83, 0.17, 0.  , 0.  , 0.  ,\n",
       "        0.  , 0.  , 0.  , 0.  ],\n",
       "       [0.  , 0.  , 0.  , 0.  , 0.  , 0.  , 0.  , 0.9 , 0.09, 0.01, 0.  ,\n",
       "        0.  , 0.  , 0.  , 0.  ],\n",
       "       [0.  , 0.  , 0.  , 0.  , 0.  , 0.  , 0.  , 0.  , 0.79, 0.21, 0.  ,\n",
       "        0.  , 0.  , 0.  , 0.  ],\n",
       "       [0.  , 0.  , 0.  , 0.  , 0.  , 0.  , 0.  , 0.  , 0.  , 0.78, 0.13,\n",
       "        0.09, 0.  , 0.  , 0.  ],\n",
       "       [0.  , 0.  , 0.  , 0.  , 0.  , 0.  , 0.  , 0.  , 0.  , 0.  , 0.99,\n",
       "        0.  , 0.01, 0.  , 0.  ],\n",
       "       [0.  , 0.  , 0.  , 0.  , 0.  , 0.  , 0.  , 0.  , 0.  , 0.  , 0.  ,\n",
       "        0.99, 0.01, 0.  , 0.  ],\n",
       "       [0.  , 0.  , 0.  , 0.  , 0.  , 0.  , 0.  , 0.  , 0.  , 0.  , 0.  ,\n",
       "        0.  , 0.98, 0.02, 0.  ],\n",
       "       [0.  , 0.  , 0.  , 0.  , 0.  , 0.  , 0.  , 0.  , 0.  , 0.  , 0.  ,\n",
       "        0.  , 0.  , 0.98, 0.02],\n",
       "       [0.  , 0.  , 0.  , 0.  , 0.  , 0.  , 0.  , 0.  , 0.  , 0.  , 0.  ,\n",
       "        0.  , 0.  , 0.  , 1.  ]])"
      ]
     },
     "execution_count": 162,
     "metadata": {},
     "output_type": "execute_result"
    }
   ],
   "source": [
    "np.around(models['cachly'].transmat_, 2)"
   ]
  },
  {
   "cell_type": "code",
   "execution_count": 163,
   "metadata": {},
   "outputs": [
    {
     "data": {
      "text/plain": [
       "array([[0.51, 0.49, 0.  , 0.  , 0.  , 0.  , 0.  , 0.  , 0.  , 0.  , 0.  ,\n",
       "        0.  , 0.  , 0.  , 0.  ],\n",
       "       [0.  , 0.77, 0.13, 0.1 , 0.  , 0.  , 0.  , 0.  , 0.  , 0.  , 0.  ,\n",
       "        0.  , 0.  , 0.  , 0.  ],\n",
       "       [0.  , 0.  , 0.69, 0.  , 0.31, 0.  , 0.  , 0.  , 0.  , 0.  , 0.  ,\n",
       "        0.  , 0.  , 0.  , 0.  ],\n",
       "       [0.  , 0.  , 0.  , 0.52, 0.35, 0.12, 0.  , 0.  , 0.  , 0.  , 0.  ,\n",
       "        0.  , 0.  , 0.  , 0.  ],\n",
       "       [0.  , 0.  , 0.  , 0.  , 0.74, 0.26, 0.  , 0.  , 0.  , 0.  , 0.  ,\n",
       "        0.  , 0.  , 0.  , 0.  ],\n",
       "       [0.  , 0.  , 0.  , 0.  , 0.  , 0.85, 0.08, 0.07, 0.  , 0.  , 0.  ,\n",
       "        0.  , 0.  , 0.  , 0.  ],\n",
       "       [0.  , 0.  , 0.  , 0.  , 0.  , 0.  , 0.8 , 0.  , 0.2 , 0.  , 0.  ,\n",
       "        0.  , 0.  , 0.  , 0.  ],\n",
       "       [0.  , 0.  , 0.  , 0.  , 0.  , 0.  , 0.  , 0.68, 0.32, 0.  , 0.  ,\n",
       "        0.  , 0.  , 0.  , 0.  ],\n",
       "       [0.  , 0.  , 0.  , 0.  , 0.  , 0.  , 0.  , 0.  , 0.22, 0.64, 0.14,\n",
       "        0.  , 0.  , 0.  , 0.  ],\n",
       "       [0.  , 0.  , 0.  , 0.  , 0.  , 0.  , 0.  , 0.  , 0.  , 0.55, 0.45,\n",
       "        0.  , 0.  , 0.  , 0.  ],\n",
       "       [0.  , 0.  , 0.  , 0.  , 0.  , 0.  , 0.  , 0.  , 0.  , 0.  , 0.89,\n",
       "        0.01, 0.1 , 0.  , 0.  ],\n",
       "       [0.  , 0.  , 0.  , 0.  , 0.  , 0.  , 0.  , 0.  , 0.  , 0.  , 0.  ,\n",
       "        0.83, 0.  , 0.17, 0.  ],\n",
       "       [0.  , 0.  , 0.  , 0.  , 0.  , 0.  , 0.  , 0.  , 0.  , 0.  , 0.  ,\n",
       "        0.  , 0.65, 0.33, 0.03],\n",
       "       [0.  , 0.  , 0.  , 0.  , 0.  , 0.  , 0.  , 0.  , 0.  , 0.  , 0.  ,\n",
       "        0.  , 0.  , 1.  , 0.  ],\n",
       "       [0.  , 0.  , 0.  , 0.  , 0.  , 0.  , 0.  , 0.  , 0.  , 0.  , 0.  ,\n",
       "        0.  , 0.  , 0.  , 1.  ]])"
      ]
     },
     "execution_count": 163,
     "metadata": {},
     "output_type": "execute_result"
    }
   ],
   "source": [
    "np.around(models['chungta'].transmat_, 2)"
   ]
  },
  {
   "cell_type": "code",
   "execution_count": 164,
   "metadata": {},
   "outputs": [
    {
     "data": {
      "text/plain": [
       "array([[0.64, 0.09, 0.27, 0.  , 0.  , 0.  , 0.  , 0.  , 0.  ],\n",
       "       [0.  , 0.57, 0.01, 0.42, 0.  , 0.  , 0.  , 0.  , 0.  ],\n",
       "       [0.  , 0.  , 0.7 , 0.12, 0.18, 0.  , 0.  , 0.  , 0.  ],\n",
       "       [0.  , 0.  , 0.  , 0.74, 0.  , 0.26, 0.  , 0.  , 0.  ],\n",
       "       [0.  , 0.  , 0.  , 0.  , 0.62, 0.38, 0.  , 0.  , 0.  ],\n",
       "       [0.  , 0.  , 0.  , 0.  , 0.  , 0.87, 0.13, 0.01, 0.  ],\n",
       "       [0.  , 0.  , 0.  , 0.  , 0.  , 0.  , 0.71, 0.26, 0.02],\n",
       "       [0.  , 0.  , 0.  , 0.  , 0.  , 0.  , 0.  , 0.65, 0.35],\n",
       "       [0.  , 0.  , 0.  , 0.  , 0.  , 0.  , 0.  , 0.  , 1.  ]])"
      ]
     },
     "execution_count": 164,
     "metadata": {},
     "output_type": "execute_result"
    }
   ],
   "source": [
    "np.around(models['nguoi'].transmat_, 2)"
   ]
  },
  {
   "cell_type": "markdown",
   "metadata": {},
   "source": [
    "## Test dữ liệu nói từ micro"
   ]
  },
  {
   "cell_type": "code",
   "execution_count": 175,
   "metadata": {},
   "outputs": [
    {
     "name": "stdout",
     "output_type": "stream",
     "text": [
      "Load khong dataset\n",
      "Load tôi dataset\n",
      "Load cachly dataset\n",
      "Load chungta dataset\n",
      "Load nguoi dataset\n"
     ]
    }
   ],
   "source": [
    "testset1 = {}\n",
    "n_test1 = {}\n",
    "for cname in class_names:\n",
    "    print(f\"Load {cname} dataset\")\n",
    "    testset1[cname] = get_class_data(os.path.join('test', cname+'_test'))\n",
    "    n_test1[cname] = len(testset1[cname])"
   ]
  },
  {
   "cell_type": "code",
   "execution_count": 176,
   "metadata": {},
   "outputs": [],
   "source": [
    "for cname in class_names:\n",
    "    testset1[cname] = list([kmeans.predict(v).reshape(-1, 1) for v in testset1[cname]])"
   ]
  },
  {
   "cell_type": "code",
   "execution_count": 178,
   "metadata": {},
   "outputs": [
    {
     "name": "stdout",
     "output_type": "stream",
     "text": [
      "Testing\n",
      "khong {'tôi': -inf, 'khong': -21.16992321721046, 'chungta': -inf, 'nguoi': -inf, 'cachly': -inf} predict: khong\n",
      "khong {'tôi': -48.93742939310759, 'khong': -33.95479722191512, 'chungta': -36.96217995472938, 'nguoi': -75.61372750588033, 'cachly': -66.0974192405975} predict: khong\n",
      "khong {'tôi': -121.3959382587892, 'khong': -64.29140635094593, 'chungta': -329.93513416270866, 'nguoi': -57.6312594165811, 'cachly': -56.62426820105277} predict: cachly\n",
      "khong {'tôi': -41.15884638829622, 'khong': -31.181263272061482, 'chungta': -38.55125973610246, 'nguoi': -43.54860743681232, 'cachly': -43.917562164662264} predict: khong\n",
      "khong {'tôi': -85.5174917658584, 'khong': -36.378739221159506, 'chungta': -56.499844130510745, 'nguoi': -53.168727082788244, 'cachly': -58.55225647259785} predict: khong\n",
      "khong {'tôi': -127.42077440221723, 'khong': -45.64086844465595, 'chungta': -65.00611281393837, 'nguoi': -46.16178887787726, 'cachly': -37.63695729147794} predict: cachly\n",
      "khong {'tôi': -61.20495462430816, 'khong': -38.505871120256266, 'chungta': -210.04138635265156, 'nguoi': -44.80290930751864, 'cachly': -34.25026909110338} predict: cachly\n",
      "khong {'tôi': -231.98311818286652, 'khong': -83.30870378810774, 'chungta': -431.1600708774199, 'nguoi': -506.0550095817847, 'cachly': -95.7073196351781} predict: khong\n",
      "khong {'tôi': -684.9235322899567, 'khong': -45.31264048735336, 'chungta': -458.850902840716, 'nguoi': -62.63654407258419, 'cachly': -51.927506735800485} predict: khong\n",
      "khong {'tôi': -56.20620394855444, 'khong': -34.83979857072012, 'chungta': -286.38140433773833, 'nguoi': -64.69864139582401, 'cachly': -33.30191809612115} predict: cachly\n",
      "khong {'tôi': -667.4723755085072, 'khong': -71.10098999838986, 'chungta': -443.9224914111894, 'nguoi': -59.49349128187878, 'cachly': -55.352968940788024} predict: cachly\n",
      "khong {'tôi': -inf, 'khong': -86.81472724057875, 'chungta': -inf, 'nguoi': -inf, 'cachly': -inf} predict: khong\n",
      "khong {'tôi': -inf, 'khong': -23.08588435723724, 'chungta': -inf, 'nguoi': -inf, 'cachly': -inf} predict: khong\n",
      "khong {'tôi': -inf, 'khong': -28.478762321606542, 'chungta': -inf, 'nguoi': -inf, 'cachly': -inf} predict: khong\n",
      "khong {'tôi': -inf, 'khong': -21.52090536258207, 'chungta': -inf, 'nguoi': -inf, 'cachly': -inf} predict: khong\n",
      "khong {'tôi': -inf, 'khong': -25.558559073845345, 'chungta': -inf, 'nguoi': -inf, 'cachly': -inf} predict: khong\n",
      "khong {'tôi': -inf, 'khong': -125.17517103021586, 'chungta': -inf, 'nguoi': -inf, 'cachly': -inf} predict: khong\n",
      "khong {'tôi': -inf, 'khong': -43.15115334506819, 'chungta': -inf, 'nguoi': -inf, 'cachly': -inf} predict: khong\n",
      "khong {'tôi': -inf, 'khong': -21.424591288082944, 'chungta': -inf, 'nguoi': -inf, 'cachly': -inf} predict: khong\n",
      "khong {'tôi': -inf, 'khong': -80.99560278316505, 'chungta': -inf, 'nguoi': -inf, 'cachly': -inf} predict: khong\n",
      "khong {'tôi': -inf, 'khong': -20.51141779805393, 'chungta': -inf, 'nguoi': -inf, 'cachly': -inf} predict: khong\n",
      "khong {'tôi': -inf, 'khong': -24.826778919127502, 'chungta': -inf, 'nguoi': -inf, 'cachly': -inf} predict: khong\n",
      "khong {'tôi': -inf, 'khong': -24.081111569772347, 'chungta': -inf, 'nguoi': -inf, 'cachly': -inf} predict: khong\n",
      "khong {'tôi': -inf, 'khong': -26.17838072468143, 'chungta': -inf, 'nguoi': -inf, 'cachly': -inf} predict: khong\n",
      "khong {'tôi': -inf, 'khong': -21.994651387730833, 'chungta': -inf, 'nguoi': -inf, 'cachly': -inf} predict: khong\n",
      "khong {'tôi': -inf, 'khong': -22.392877069280225, 'chungta': -inf, 'nguoi': -inf, 'cachly': -inf} predict: khong\n",
      "khong {'tôi': -inf, 'khong': -44.485378134842094, 'chungta': -inf, 'nguoi': -inf, 'cachly': -inf} predict: khong\n",
      "khong {'tôi': -inf, 'khong': -51.24872654340307, 'chungta': -inf, 'nguoi': -inf, 'cachly': -inf} predict: khong\n",
      "khong {'tôi': -inf, 'khong': -25.48984396716982, 'chungta': -inf, 'nguoi': -inf, 'cachly': -inf} predict: khong\n",
      "khong {'tôi': -inf, 'khong': -51.185101835774354, 'chungta': -inf, 'nguoi': -inf, 'cachly': -inf} predict: khong\n",
      "khong {'tôi': -inf, 'khong': -20.22110958194691, 'chungta': -inf, 'nguoi': -inf, 'cachly': -inf} predict: khong\n",
      "tôi {'tôi': -30.28694455299254, 'khong': -35.48957557042868, 'chungta': -46.64838470407851, 'nguoi': -28.77197981987877, 'cachly': -32.81484142125836} predict: nguoi\n",
      "tôi {'tôi': -25.66033026497498, 'khong': -30.622983532396656, 'chungta': -109.1084934058211, 'nguoi': -33.87394960035667, 'cachly': -40.78446678924992} predict: tôi\n",
      "tôi {'tôi': -185.9855659885619, 'khong': -291.7443318467461, 'chungta': -220.06503143466983, 'nguoi': -263.37567602282877, 'cachly': -255.4764359582102} predict: tôi\n",
      "tôi {'tôi': -18.660604593515902, 'khong': -18.809441843490603, 'chungta': -31.478405774043125, 'nguoi': -19.497572390363292, 'cachly': -28.900972386470258} predict: tôi\n",
      "tôi {'tôi': -44.47350263306792, 'khong': -48.69635903452919, 'chungta': -50.429547984688035, 'nguoi': -212.30331113404455, 'cachly': -72.09948929523843} predict: tôi\n",
      "tôi {'tôi': -36.372235543915046, 'khong': -53.90913793718635, 'chungta': -73.25277591960841, 'nguoi': -467.5369412368683, 'cachly': -58.838711599685496} predict: tôi\n",
      "tôi {'tôi': -24.84991685679153, 'khong': -27.17025083673306, 'chungta': -32.39744095058293, 'nguoi': -32.750925079360414, 'cachly': -32.51794777424646} predict: tôi\n",
      "tôi {'tôi': -47.26225479089489, 'khong': -43.16934752268622, 'chungta': -49.43472083748918, 'nguoi': -42.9385064456042, 'cachly': -52.35308732997628} predict: nguoi\n",
      "tôi {'tôi': -22.84261767225115, 'khong': -31.196855944013006, 'chungta': -29.470976855413653, 'nguoi': -24.02232477936425, 'cachly': -38.020289243897025} predict: tôi\n",
      "tôi {'tôi': -15.988135004681887, 'khong': -31.991025709972707, 'chungta': -101.88864294444603, 'nguoi': -14.215194457420157, 'cachly': -25.687625936444707} predict: nguoi\n",
      "cachly {'tôi': -717.9918880185779, 'khong': -200.857261719373, 'chungta': -351.8169770493405, 'nguoi': -1578.867419229027, 'cachly': -80.69173193174335} predict: cachly\n",
      "cachly {'tôi': -165.37123543166845, 'khong': -179.76050453037521, 'chungta': -265.66895373021663, 'nguoi': -824.7495429162807, 'cachly': -74.18913078538681} predict: cachly\n",
      "cachly {'tôi': -192.61055801282123, 'khong': -105.76006158591811, 'chungta': -133.4940918911971, 'nguoi': -446.04653599557406, 'cachly': -72.10509710966862} predict: cachly\n",
      "cachly {'tôi': -1397.0353085579861, 'khong': -346.6664573400719, 'chungta': -224.1971252879043, 'nguoi': -1427.5566688414583, 'cachly': -80.551733051022} predict: cachly\n",
      "cachly {'tôi': -88.21727970373621, 'khong': -71.6532204962209, 'chungta': -188.63385021691843, 'nguoi': -91.0203427436485, 'cachly': -61.034411200383474} predict: cachly\n",
      "cachly {'tôi': -131.13749501721355, 'khong': -186.6947687182344, 'chungta': -125.45502288927648, 'nguoi': -116.3600294610269, 'cachly': -89.1809386787534} predict: cachly\n",
      "cachly {'tôi': -1644.3812344646094, 'khong': -242.72138648107733, 'chungta': -388.52281303975633, 'nguoi': -1278.952245421599, 'cachly': -134.85721438571784} predict: cachly\n",
      "cachly {'tôi': -4006.343067237715, 'khong': -395.36866073022793, 'chungta': -321.85107210254927, 'nguoi': -856.8847732081659, 'cachly': -192.17065483377934} predict: cachly\n",
      "cachly {'tôi': -1799.2849892114702, 'khong': -257.1300250423341, 'chungta': -297.39620164411434, 'nguoi': -3232.8146353116017, 'cachly': -144.4921679606608} predict: cachly\n",
      "chungta {'tôi': -220.4770081674693, 'khong': -97.17434715925984, 'chungta': -42.57695758320786, 'nguoi': -259.6451374547608, 'cachly': -137.1706221012568} predict: chungta\n",
      "chungta {'tôi': -92.8662333893826, 'khong': -84.94771312919104, 'chungta': -35.00276989405973, 'nguoi': -112.85953681598204, 'cachly': -100.99607507566918} predict: chungta\n",
      "chungta {'tôi': -116.8179673249941, 'khong': -81.0230187502826, 'chungta': -29.794092866633918, 'nguoi': -151.62609050896967, 'cachly': -130.65328270383213} predict: chungta\n",
      "chungta {'tôi': -155.69798418187773, 'khong': -88.43276386400272, 'chungta': -26.891679925469372, 'nguoi': -815.0556184926552, 'cachly': -107.49320119098192} predict: chungta\n",
      "chungta {'tôi': -258.5347774863537, 'khong': -66.28608570808937, 'chungta': -25.41393019891125, 'nguoi': -158.8826063611944, 'cachly': -120.90208013241434} predict: chungta\n",
      "chungta {'tôi': -112.30751631424351, 'khong': -87.37194955092112, 'chungta': -40.09338030337197, 'nguoi': -164.8789667906522, 'cachly': -98.02069031367573} predict: chungta\n",
      "chungta {'tôi': -282.93519844962583, 'khong': -97.89770646205207, 'chungta': -42.121853332719624, 'nguoi': -162.88143852071883, 'cachly': -130.69025854205879} predict: chungta\n",
      "chungta {'tôi': -205.78449684207843, 'khong': -71.98759481678992, 'chungta': -33.95236480623832, 'nguoi': -131.01313737208864, 'cachly': -104.38998209525312} predict: chungta\n",
      "chungta {'tôi': -99.76962433138587, 'khong': -95.07783733557346, 'chungta': -41.81283499464692, 'nguoi': -134.00000610785995, 'cachly': -124.72867438336162} predict: chungta\n",
      "chungta {'tôi': -166.18391708385673, 'khong': -85.43006593718114, 'chungta': -41.266566453854004, 'nguoi': -141.64159673497034, 'cachly': -105.4536375974233} predict: chungta\n",
      "nguoi {'tôi': -59.947030663901124, 'khong': -61.985300807026285, 'chungta': -69.02645197355073, 'nguoi': -37.13886625620283, 'cachly': -44.14977596668766} predict: nguoi\n",
      "nguoi {'tôi': -43.63154707867612, 'khong': -57.69261849660939, 'chungta': -59.149515009412895, 'nguoi': -24.815613420177964, 'cachly': -46.03680027809169} predict: nguoi\n",
      "nguoi {'tôi': -33.03299477647988, 'khong': -42.14973458606125, 'chungta': -45.314174144519384, 'nguoi': -17.460493794432963, 'cachly': -44.60063232640474} predict: nguoi\n",
      "nguoi {'tôi': -44.092707866104824, 'khong': -94.75041297112733, 'chungta': -90.85901258691891, 'nguoi': -42.564221892529474, 'cachly': -63.73269750144046} predict: nguoi\n",
      "nguoi {'tôi': -42.9974011999785, 'khong': -47.103262461465505, 'chungta': -196.55831331530422, 'nguoi': -47.26112173285758, 'cachly': -58.751213854480476} predict: tôi\n",
      "nguoi {'tôi': -20.57239016216787, 'khong': -42.677743502219265, 'chungta': -38.85018567816731, 'nguoi': -15.86150574283202, 'cachly': -34.106380094681334} predict: nguoi\n",
      "nguoi {'tôi': -39.1766220953965, 'khong': -62.43715706639736, 'chungta': -69.06331785471511, 'nguoi': -29.655605258160634, 'cachly': -41.76971280998925} predict: nguoi\n",
      "nguoi {'tôi': -20.407077378607234, 'khong': -33.27060122561922, 'chungta': -151.12408362996317, 'nguoi': -13.304614547099337, 'cachly': -25.3055088443268} predict: nguoi\n",
      "nguoi {'tôi': -21.37833652710295, 'khong': -33.536268680084824, 'chungta': -34.90267480323706, 'nguoi': -18.52697828223087, 'cachly': -30.904102751734502} predict: nguoi\n",
      "nguoi {'tôi': -17.036201113816396, 'khong': -30.425605345363486, 'chungta': -30.355466746832626, 'nguoi': -16.894563138878834, 'cachly': -25.976634958399003} predict: nguoi\n",
      "nguoi {'tôi': -27.102886018039996, 'khong': -42.32293418674462, 'chungta': -127.44323414202964, 'nguoi': -16.13083957372352, 'cachly': -36.408533478767424} predict: nguoi\n",
      "nguoi {'tôi': -42.10352953499815, 'khong': -81.38878427230898, 'chungta': -216.3187864048836, 'nguoi': -29.95976342850018, 'cachly': -55.271611212961524} predict: nguoi\n",
      "nguoi {'tôi': -29.986144610615924, 'khong': -52.779626686808, 'chungta': -217.78423403718304, 'nguoi': -24.927877862626772, 'cachly': -45.04869093556338} predict: nguoi\n",
      "nguoi {'tôi': -20.378449174454484, 'khong': -45.85979499139475, 'chungta': -168.88834448492622, 'nguoi': -13.59489271946848, 'cachly': -34.57056397843677} predict: nguoi\n",
      "nguoi {'tôi': -30.576033391587817, 'khong': -48.45519141667074, 'chungta': -51.5640782672041, 'nguoi': -20.492081658539565, 'cachly': -43.22025777778654} predict: nguoi\n",
      "nguoi {'tôi': -34.593077242192535, 'khong': -74.41891759537327, 'chungta': -83.49185374671146, 'nguoi': -27.088331521371497, 'cachly': -57.30354127452321} predict: nguoi\n",
      "nguoi {'tôi': -39.45514584360503, 'khong': -44.36883126568439, 'chungta': -47.43494396758399, 'nguoi': -26.683633581056966, 'cachly': -47.87847145451105} predict: nguoi\n",
      "nguoi {'tôi': -121.12702317449539, 'khong': -57.69248853556018, 'chungta': -412.67881871646273, 'nguoi': -24.83103280966902, 'cachly': -36.53399041096713} predict: nguoi\n",
      "nguoi {'tôi': -23.275557028884396, 'khong': -48.92460652932345, 'chungta': -173.39170524534052, 'nguoi': -16.52695001260781, 'cachly': -39.05856787665287} predict: nguoi\n",
      "nguoi {'tôi': -61.41210401585208, 'khong': -70.53022723670396, 'chungta': -85.02968748225013, 'nguoi': -39.07047915127114, 'cachly': -51.754275449978664} predict: nguoi\n",
      "nguoi {'tôi': -33.1109333899829, 'khong': -31.441175135649544, 'chungta': -53.00996791415556, 'nguoi': -46.551724800384996, 'cachly': -30.778017205688666} predict: cachly\n",
      "nguoi {'tôi': -37.01606458846346, 'khong': -52.621029763133905, 'chungta': -56.85887845205095, 'nguoi': -23.949477530940758, 'cachly': -45.24538168578127} predict: nguoi\n",
      "nguoi {'tôi': -41.05023112475437, 'khong': -57.41207892980758, 'chungta': -170.98779779848257, 'nguoi': -54.444497263782544, 'cachly': -43.39249887071986} predict: tôi\n",
      "nguoi {'tôi': -38.94955132913596, 'khong': -50.084094467948475, 'chungta': -121.76197528666135, 'nguoi': -24.72955384850668, 'cachly': -51.61910093270089} predict: nguoi\n",
      "nguoi {'tôi': -30.82654450228277, 'khong': -34.33617440664959, 'chungta': -42.77903841648402, 'nguoi': -31.500477081574413, 'cachly': -44.220924977361165} predict: tôi\n",
      "nguoi {'tôi': -inf, 'khong': -526.365301765642, 'chungta': -inf, 'nguoi': -inf, 'cachly': -inf} predict: khong\n",
      "nguoi {'tôi': -320.95931991695204, 'khong': -509.31410752039324, 'chungta': -370.49233058441337, 'nguoi': -270.0163757214117, 'cachly': -321.9789644861867} predict: nguoi\n",
      "nguoi {'tôi': -414.6493265806249, 'khong': -530.6190710822974, 'chungta': -483.1669389930631, 'nguoi': -304.3555106403204, 'cachly': -406.0715207346633} predict: nguoi\n"
     ]
    }
   ],
   "source": [
    "print(\"Testing\")\n",
    "n_correct1 = {'khong': 0, 'tôi': 0, 'chungta': 0, 'nguoi': 0,'cachly': 0}\n",
    "for true_cname in class_names:\n",
    "    for O in testset1[true_cname]:\n",
    "        score = {cname: model.score(O, [len(O)]) for cname, model in models.items()}\n",
    "        if (true_cname == max(score, key=score.get)): n_correct1[true_cname] += 1\n",
    "        print(true_cname, score, 'predict:', max(score, key=score.get))"
   ]
  },
  {
   "cell_type": "code",
   "execution_count": 179,
   "metadata": {},
   "outputs": [
    {
     "name": "stdout",
     "output_type": "stream",
     "text": [
      "Accuracy: khong 0.8387096774193549\n",
      "Accuracy: tôi 0.7\n",
      "Accuracy: cachly 1.0\n",
      "Accuracy: chungta 1.0\n",
      "Accuracy: nguoi 0.8214285714285714\n"
     ]
    }
   ],
   "source": [
    "for cname in class_names:\n",
    "    print('Accuracy:', cname, n_correct1[cname]/n_test1[cname])"
   ]
  },
  {
   "cell_type": "code",
   "execution_count": 180,
   "metadata": {},
   "outputs": [
    {
     "name": "stdout",
     "output_type": "stream",
     "text": [
      "{'khong': 31, 'tôi': 10, 'cachly': 9, 'chungta': 10, 'nguoi': 28}\n"
     ]
    }
   ],
   "source": [
    "print(n_test1)"
   ]
  },
  {
   "cell_type": "code",
   "execution_count": 181,
   "metadata": {},
   "outputs": [
    {
     "data": {
      "text/plain": [
       "array([[0.64, 0.09, 0.27, 0.  , 0.  , 0.  , 0.  , 0.  , 0.  ],\n",
       "       [0.  , 0.57, 0.01, 0.42, 0.  , 0.  , 0.  , 0.  , 0.  ],\n",
       "       [0.  , 0.  , 0.7 , 0.12, 0.18, 0.  , 0.  , 0.  , 0.  ],\n",
       "       [0.  , 0.  , 0.  , 0.74, 0.  , 0.26, 0.  , 0.  , 0.  ],\n",
       "       [0.  , 0.  , 0.  , 0.  , 0.62, 0.38, 0.  , 0.  , 0.  ],\n",
       "       [0.  , 0.  , 0.  , 0.  , 0.  , 0.87, 0.13, 0.01, 0.  ],\n",
       "       [0.  , 0.  , 0.  , 0.  , 0.  , 0.  , 0.71, 0.26, 0.02],\n",
       "       [0.  , 0.  , 0.  , 0.  , 0.  , 0.  , 0.  , 0.65, 0.35],\n",
       "       [0.  , 0.  , 0.  , 0.  , 0.  , 0.  , 0.  , 0.  , 1.  ]])"
      ]
     },
     "execution_count": 181,
     "metadata": {},
     "output_type": "execute_result"
    }
   ],
   "source": [
    "np.around(models['nguoi'].transmat_, 2)"
   ]
  },
  {
   "cell_type": "code",
   "execution_count": 182,
   "metadata": {},
   "outputs": [],
   "source": [
    "import pickle"
   ]
  },
  {
   "cell_type": "code",
   "execution_count": 183,
   "metadata": {},
   "outputs": [],
   "source": [
    "filename = 'hmm_models.sav'\n",
    "pickle.dump(models, open(filename, 'wb'))"
   ]
  },
  {
   "cell_type": "code",
   "execution_count": 184,
   "metadata": {},
   "outputs": [],
   "source": [
    "pickle.dump(kmeans, open('kmeans.sav', 'wb'))"
   ]
  },
  {
   "cell_type": "code",
   "execution_count": null,
   "metadata": {},
   "outputs": [],
   "source": []
  }
 ],
 "metadata": {
  "kernelspec": {
   "display_name": "Python 3",
   "language": "python",
   "name": "python3"
  },
  "language_info": {
   "codemirror_mode": {
    "name": "ipython",
    "version": 3
   },
   "file_extension": ".py",
   "mimetype": "text/x-python",
   "name": "python",
   "nbconvert_exporter": "python",
   "pygments_lexer": "ipython3",
   "version": "3.7.6"
  }
 },
 "nbformat": 4,
 "nbformat_minor": 4
}
